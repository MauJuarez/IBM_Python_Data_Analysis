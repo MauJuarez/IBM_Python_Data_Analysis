{
  "nbformat": 4,
  "nbformat_minor": 0,
  "metadata": {
    "colab": {
      "provenance": [],
      "include_colab_link": true
    },
    "kernelspec": {
      "name": "python3",
      "display_name": "Python 3"
    },
    "language_info": {
      "name": "python"
    },
    "widgets": {
      "application/vnd.jupyter.widget-state+json": {
        "7620f8da1c8c47898b8dabc5c0f6658f": {
          "model_module": "@jupyter-widgets/controls",
          "model_name": "VBoxModel",
          "model_module_version": "1.5.0",
          "state": {
            "_dom_classes": [
              "widget-interact"
            ],
            "_model_module": "@jupyter-widgets/controls",
            "_model_module_version": "1.5.0",
            "_model_name": "VBoxModel",
            "_view_count": null,
            "_view_module": "@jupyter-widgets/controls",
            "_view_module_version": "1.5.0",
            "_view_name": "VBoxView",
            "box_style": "",
            "children": [
              "IPY_MODEL_3a54bed106b54f11b4f232bb12a74bae",
              "IPY_MODEL_82322b23025c423aae9d601d261671ef",
              "IPY_MODEL_f0842d9dcc954664bf65a003a2251bd4"
            ],
            "layout": "IPY_MODEL_2377fe5843324c3a8078c985d3a8cc88"
          }
        },
        "3a54bed106b54f11b4f232bb12a74bae": {
          "model_module": "@jupyter-widgets/controls",
          "model_name": "IntSliderModel",
          "model_module_version": "1.5.0",
          "state": {
            "_dom_classes": [],
            "_model_module": "@jupyter-widgets/controls",
            "_model_module_version": "1.5.0",
            "_model_name": "IntSliderModel",
            "_view_count": null,
            "_view_module": "@jupyter-widgets/controls",
            "_view_module_version": "1.5.0",
            "_view_name": "IntSliderView",
            "continuous_update": true,
            "description": "order",
            "description_tooltip": null,
            "disabled": false,
            "layout": "IPY_MODEL_3584ea324893474093d961e6bdd58664",
            "max": 6,
            "min": 0,
            "orientation": "horizontal",
            "readout": true,
            "readout_format": "d",
            "step": 1,
            "style": "IPY_MODEL_2396d9b28bc84e9daab06b33d52253c5",
            "value": 3
          }
        },
        "82322b23025c423aae9d601d261671ef": {
          "model_module": "@jupyter-widgets/controls",
          "model_name": "FloatSliderModel",
          "model_module_version": "1.5.0",
          "state": {
            "_dom_classes": [],
            "_model_module": "@jupyter-widgets/controls",
            "_model_module_version": "1.5.0",
            "_model_name": "FloatSliderModel",
            "_view_count": null,
            "_view_module": "@jupyter-widgets/controls",
            "_view_module_version": "1.5.0",
            "_view_name": "FloatSliderView",
            "continuous_update": true,
            "description": "test_data",
            "description_tooltip": null,
            "disabled": false,
            "layout": "IPY_MODEL_bb4ff9b3a95b41b3899a8c6220f61ca5",
            "max": 0.95,
            "min": 0.05,
            "orientation": "horizontal",
            "readout": true,
            "readout_format": ".2f",
            "step": 0.05,
            "style": "IPY_MODEL_ab92d70b3ccb461f9447d4f7373b8ac8",
            "value": 0.45
          }
        },
        "f0842d9dcc954664bf65a003a2251bd4": {
          "model_module": "@jupyter-widgets/output",
          "model_name": "OutputModel",
          "model_module_version": "1.0.0",
          "state": {
            "_dom_classes": [],
            "_model_module": "@jupyter-widgets/output",
            "_model_module_version": "1.0.0",
            "_model_name": "OutputModel",
            "_view_count": null,
            "_view_module": "@jupyter-widgets/output",
            "_view_module_version": "1.0.0",
            "_view_name": "OutputView",
            "layout": "IPY_MODEL_ace6acb2beef4eb2a3c14e62a8851b0a",
            "msg_id": "",
            "outputs": [
              {
                "output_type": "display_data",
                "data": {
                  "text/plain": "<Figure size 432x288 with 1 Axes>",
                  "image/png": "iVBORw0KGgoAAAANSUhEUgAAAXwAAAEXCAYAAACu1P9TAAAAOXRFWHRTb2Z0d2FyZQBNYXRwbG90bGliIHZlcnNpb24zLjcuMSwgaHR0cHM6Ly9tYXRwbG90bGliLm9yZy/bCgiHAAAACXBIWXMAAAsTAAALEwEAmpwYAAA6UUlEQVR4nO3dd5hU5fXA8e+hydJcFJReFEMsoCgaBUVjw4KCNWKimFhjb2CPxl+iKDaiJmpsYEdRUFERxE4UQVBAQGkCCwiI9KXtnt8f544zOzsz26btzvk8zzw7c++de9+5u3vuO+993/OKquKcc67mq5XpAjjnnEsPD/jOOZcjPOA751yO8IDvnHM5wgO+c87lCA/4zjmXIzzg10AislBEjs50OSKJyLsiMqCc22Zd+ZNFRDaIyG4p2vfdInJ1gvUqIp1ScexME5ErROSeTJcj23nAz2JB4CsMgsRPIvKsiDTKdLkqQ1WPV9VhVd1PcA62BudktYiME5HfJqOM6aCqjVR1frL3KyLNgXOBx5O972wgIr8RkdEisjL4vY8Vkc4Rm/wX+KOI7JKpMlYHHvCz30mq2gjYH+gO3Jrh8mSDe4Nz0hooAJ5K9gFEpE6y95li5wHvqGphug8sIrXTcJh84E2gM7ArMAkYHVqpqpuBd7GLnovDA341oaoF2B/0PgAicrKIzBSRNSLykYjsGf0eEWkhIptEZOeIZfsHtaS6InKeiHwmIveJyC8iskBEjo/YtpWIvBnUqOaKyIUR6+4QkVdF5HkRWS8i04Na2E0iskJEFovIsRHbfyQiFwTPdxeRCSLys4isEpEXRCS/EuekEBgB7BdV5pHBZ1wgIldGrMsTkWHBZ50lIoNEZEnE+oUicoOIfAtsFJE6InKwiEwMzvM3InJExPbnicj84PMvEJE/Bss7icjHIrI2+HyvRLzn12YVEdlRRIYHZf1RRG4VkVoR+477u4nheODjyAUiMlBElonIUhH5S9S6HYJ9Lwq+PT4mInkR6wdFvPeCqHI/KyL/EZF3RGQj8PsyznstEblRROYFv/MRIrJTgs9SiqpOUtWnVHW1qm4DHgQ6R/5tAx8BJ1Zkv7nGA341ISJtgROAqSLyG+Al4GqgOfAO8JaI1It8j6oux/4JzoxYfA7wcvBPA/A7YA7QDLgXeEpEJFj3MrAEaAWcDtwlIkdG7Osk4DmgKTAVGIv9TbUG7iR+84IAdwf73RNoC9xRrhMRuRORhkB/YG7wuhbwFvBNUIajgKtFpHfwltuBDsBuwDHAn2Lstj8WNPKxmuQY4B/ATsD1wEgRaR4c+1/A8araGOgBTAv28X/A+9h5aQM8HOcjPAzsGJTncKx2+ueI9Yl+N9G6BNuGzs1xQXmPAfYAou+JDAZ+g10sO2Hn628R7702eE8n4IgYxzsb+CfQGJhI4vN+BdAv+IytgF+ARyPKuibB48Y4n7cXsFxVf45YNgvYN872DkBV/ZGlD2AhsAFYA/wI/BvIA24DRkRsVwtr2jgi4n1HB8//AHwePK8NLAcOCl6fB8yN2E8DQIEWWBAuAhpHrL8beDZ4fgcwLmLdSUFZawevGwf7yg9efwRcEOdz9gOmRn3uo+Ns+yywOTgnxcACoGuw7nfAoqjtbwKeCZ7PB3pHrLsAWBJ13L9EvL4BeC5qf2OBAUDDoAynAXlR2wwHngDaxCi/YkG0NrAV2Cti3cXAR2X9buKcl23AbyNePw0Mjnj9m4hjC7AR2D1i/SHAgoj33h2xrlPovRG/g+ER68s677OAoyLWtQzKW6eS/xdtsL/3/lHL9wCKMv1/m80Pr+Fnv36qmq+q7VX1UrVmjFbYBQAAVS0GFmO1q2ijgb1EpCNW21urqpMi1i+P2M+m4Gmj4BirVXV9xLY/Rh3jp4jnhcAqVS2KeB3aVwkisquIvCwiBSKyDngeq8WW132qmo/V1guxdl2A9kCryBoicDNWUyf4TIsj9hP5PNay9sAZUfs7FGipqhuxi+klwDIRGSPhm8eDsKA6SazZrURzSqAZUJeI3yOlz2+8300sv2AX2ZDozxp5nObYBWRKxOd6L1ge673lOU+Jznt74I2IdbOwysSuVJDYzen3gX+r6ktRqxsDayu6z1ziAb96Wor9EwEQfM1vi9V6SlC7mTUCa744B2uCKe8xdhKRyCDSLtYxKuEurMbYRVWbBGWL11QRl6ouAq4Chgbtz4uxWmp+xKOxqp4QvGUZVjsMaRtrtxHPF2M1/Mj9NVTVwcHxx6rqMViNdTbWUwRVXa6qF6pqK6zW/m8p3R1yFVbLbR+xrCrn91usFh+yLOrztYs6diGwd8Tn2lHtRnjovRU9T4nO+2Ks6StyfX21+1KhrqrxHjeHDiIiTbFg/6aq/jNGmfbEmpVcHB7wq6cRwIkicpSI1AWuA7ZgbamxDMeaCE6mnAFfVRcH+7tbROqLSFfgfKw2XlWNseaftSLSGhhY2R2p6jjs4nQR1nNjvdiN1zwRqS0i+4jIgcHmI4CbRKRpcNzLy9j988BJItI72Fd9ETlCRNoE31L6Bm35W4LPUwwgImeISChg/oIFx+KochcF5fmniDQWkfZYu3llz+87WBt5yAjgPBHZS0QaYPcvQscuxi5OD0rQjVFEWke0uY8A/iwiewbvva2MY5d13h8LPmf74FjNRaRvRHkaJXjcFbynCdac9rmqxmvXPxzr2ODi8IBfDanqHKxW/DBWWzsJ6765Nc72n2MB52tV/THWNnH0x5pNlgJvALer6vgqFD3k71g307XYTdHXq7i/IVgzSh2gD3YjcgF2bp7EboyC3UheEqwbD7yGBeuYgoteX6x5YiVWUx2I/d/UwgL0UmA1Fmz+Grz1QOBLEdmAdSW8SmP3vb8Ca0ufD3wGvIi1n1fGcOCE4JsOqvou8BAwAbupPSFq+xuC5V8EzWrjCZrGgvf+C/gwtE3wnpjnKrh4JTrvQ7Hz8L6IrA/297sKfr5TsPP656hvAO0ARKQ+1qmhymM9ajJR9QlQcoGITABeVNUnM12WbCEifwXOUtXDy9y4GhCRu4AVqvpQkve7JzAD2EFVtydz38kiIlcAbVV1UKbLks084OeA4Kv1OOwfYn1Z29dUItIS6wL5P6xHxxjgkWQHyJpARE7BmokaYLXmYlXtl9FCuSrzJp0aTkSGYV/Xr87lYB+oh40NWI81cYzGurq60i4GVgDzsB41f028uasOvIbvnHM5wmv4zjmXIzzguxpJRM4XkUszXQ7nsokHfFcpUV3jiiWcxnmDBEnEKri/X5OrxVnfQSyBV+gYC+PlWRGRgVjXz+tE5B9R63YQkafEkpWtF5FpkjgpWbUjIjuJyBsisjH4nGcn2FZE5B6xpGY/B89LDYITkXOD8x/3d+SyX3VLAeuyRMSoTERkIZYnJxl99MuSr6rbRaQ78LGITAkGX4XKMgC7wdgL6zc+XkSWq+ojwSZ1sP70hwOLsL7bI0Ski6ouTEP5SxCROino6vgolqdnV6xv/BgR+UZVZ8bY9iIsl9G+2ACxcVhf+sciytgUG4sQ6/2uGvEavksqSZAKNxip+nywfI2IfBWMWP0ncBjwSFB7fyTxUUBVJ2MBaL+IY5+IDSg6XFXnB0P3DwcuEJEzgvdtVNU7VHWhqhar6ttYgDsgzudJlOp4b7EJWFaLpRi+OVi+g4g8JJZaeGnwfIdg3REisiQYlboceCbROasosZG/pwG3qeoGVf0MG/R0Tpy3DADuV9Ulwfm6HxuVHelubCDWqsqUyWUPD/gu2RKlwh2Ajb5sC+yMJR4rVNVbgE+By4Ph9GWlPEBEDsbmBpgbWqaqY1R1r2CEbGjZClXdT1VfjbOfXbEcNPFqrzFTHYvlGBqPJR1rhWWU/CB4zy3AwdjFaF/gIEpOXNMCS7fcHqthl5U++NtEzTJRfgNsV9XvI5Z9A+wdZ/u9KZl/psS2InIQNvHOY7hqzwO+S7ZLgFuCGuMWLI3y6WIzSG3DAn0nVS1S1Smquq6C+18lIoXY4Kl/A6MqW1CxPEQvAMNUdXaczUIJzlqp6uagxgyWSmC5qt4fLF+vql8G6/4I3BlcbFZi9xMia9jFWJqKLWrZTxOdM1S1q6q+WM6P1QiIPqdrKZlJM3r7tVHbNgra9mtj5/jyIP+Oq+Y84LtkS5QK9zksAdbLQVPHvUHQrYhmWJC6DpuYo6LvB36dLOU5rK070TeKeKmO22KDkmIpkb46eN4q4vXKIItpSKXTB4tNDh95s3wD0CRqsybYYLNYordvAmxQG6BzKfCtqn4R852u2vGA75ItbipcVd2mqn9X1b2wGaL6EJ6DtNwjAINvBw9gE6FUuOtl0AvlKSygnqbh2b9iHStequPFWJqGWEqkr8ZSEy+N3G3U9gnTByeiNjl8KLPkC8D3QB0R2SNis32J32Q1k5KzREVuexRwiogsD+439ADuL889FpedPOC7ZIubCldEfi8iXYKmgnVYc0moqeAn4gfQeAYDg8QyJVbEf7Dc6SdpGZN+S/xUx28DLUXk6uAmbWMRCWWAfAm4NfjszbCpAxOlPU6YPrgi1CZmeR24U0QaikhPLONnvLTYw4FrxdIjt8K+OT0brDsPO0/7BY/JWPPULZUpm8s8D/gu2RKlwm2BpSRehzVbfEw4EA3F2q1/EZF/lfNYY7AgfGFZG4YEQfViLIAtl7LHDsRMdRzkJToGS029HPgB+H3wnn9gwfFbYDrwdbAsnoTpg4OmpIqMbbgUmwpzBXbx+WuoS6aIHBZ8lpDHsflop2MZMccEy1DVNcE3nOVq8yNvBdapqs8qVU15Lh3nnMsRXsN3zrkc4QHfOedyhAd855zLER7wnXMuR2Rt8rRmzZpphw4dMl0M55yrVqZMmbJKVZvHWpe1Ab9Dhw5Mnjw508VwzrlqRUR+jLfOm3Sccy5HeMB3zrkc4QHfOedyhAd855zLER7wnXMuR2RtL51sMWpqAUPGzmHpmkJa5ecxsHdn+nVrneliOedchXnAT2DU1AJuen06hduKAChYU8hNr08H8KDvnKt2vEkngSFj5/wa7EMKtxUxZOycDJXIOecqzwN+AkvXxJ4bI95y55zLZh7wE2iVn1eh5c45l8084CcwsHdn8urWLrEsr25tBvbunKESOedc5flN2wRCN2a9l45zribwgF+Gft1ae4B3ztUISWnSEZGnRWSFiMyIs15E5F8iMldEvhWR/ZNxXOecc+WXrDb8Z4HjEqw/HtgjeFwE/CdJx3XOOVdOSQn4qvoJsDrBJn2B4Wq+APJFpGUyju2cc6580tVLpzWwOOL1kmBZCSJykYhMFpHJK1euTFPRnHMuN2RVt0xVfUJVu6tq9+bNY87Q5ZxzrpLSFfALgLYRr9sEy5xzzqVJugL+m8C5QW+dg4G1qrosTcd2zjlHkvrhi8hLwBFAMxFZAtwO1AVQ1ceAd4ATgLnAJuDPyTiuc8658ktKwFfV/mWsV+CyZBzLOedc5fhIW+dcWvmkQpnjAd85lzY+qVBmZVW3TOdczeaTCmWWB3znXNr4pEKZ5U06zrmEktnm3io/j4IYwd0nFUoPr+E75+IKtbkXrClECbe5j5pauXGTPqlQZnkNP4t47wWXDSL/DmuJUKRaYn2ozb0yf5s+qVBmecDPEt57wWWD6L/D6GAfUpU2d59UKHO8SSdLeO8Flw1i/R3G4m3u1ZMH/CzhvRdcNijP35u3uafYmjWwbl1Kdu0BP0vEqzF5TcqlU7y/t9oiCNA6P4+7T+3iTTKpMHcuXHoptGwJF1+ckkN4G36WGNi7c4m2U/CalEu/eH+HHuRT6MsvYcgQeP11UIXdd4dbb03JoTzgZwnvveCygf8dpklxMYwZY4H+00/Dy3v3hpdegqZNU3JY0Th34TOte/fuOnny5EwXwznnkmfLFnj+ebjvPpg9G3bYwZYB/PWv8PDDULt24n2UQUSmqGr3WOtqXBv+qKkF9Bw8gY43jqHn4AmVHiDinHNJ88svcPfd0KEDXHCBBforrwwHe4A//anKwb4sNapJx/uyO+eyyqJF8OCD8OSTsGEDHHMMDB8OM2fCNdeEtxs9Gnr0SHlxalTAT9SX3QO+cy5tpk2z9vlXXrHXZ50F118Pe+8Ne+4J8+bZ8tat4cMPYY890lKsGtWk433ZnXMZowrvv2+1+G7d4M03rdlm/nxrt8/Lg3r1wsH+rLNgzpy0BXuoYQHf+7I759Ju2zZ44QUL8r17w4wZ1l6/eDE88AC0awe33Qa//W34PY88Ai++CA0bprWoNapJx/uyO+fSZv16a5t/8EEL7nvuCU89BX/8o92UBVi1Cpo3L/m+iRPhkEPSX15qWA2/X7fW3H1qF1rn5/moQOdcaixbBjfdZDX3a6+Fjh3hrbesZv+Xv1iwV7Vaf2Sw79IFli/PWLCHGlbDB8/E55xLkVmzrP/888/D9u1w6ql2I/Z3vyu53fLlcMYZ8Nln4WXXXAP33gt1Mhtya1zAd865pFG1kbBDhsDbb0P9+taP/tprLQVC9LbPPw/nnlty+WuvwWmnpa/MCXjAd865aEVF8MYbFugnTYKdd4bbb4fLLivdJg+wZAlccomlS4g0a1bJm7UZ5gG/GvKZsZxLkcJCePZZuP9+6z65227w6KNw3nnQoEHp7VXtRu1VV8GmTeHlv/+9dcts1ChdJS8XD/jVjI8mdi4FVq2ywP7II/b8oINg8GA45ZT46Q4WLoQLL4Tx40suv/dea9sXSXmxK8oDfjXjo4mdS6J586yv/DPPWO2+Tx8YOBAOOyx+wC4uhv/8B264ATZuLLnuk0/svVnKA34146OJnUuCSZPCOejr1LHEZdddB3vtlfh9c+fC+edbYI9Uv76NqG3ZMnVlToIa1Q8/F/hoYucqqbjYetocfrh1pRw3DgYNsqaZp55KHOyLimyAVdeu8PXXJdf1729TEmZ5sAcP+NXOwN6dyatbsk3RRxM7l8CWLfD007DPPnDSSbBggTXjLF5sKRDKCtSzZsGhh1pXzG7dLOtlyPDhliKhbt3UfoYk8SadasZnJHKunNasgccfh6FDbXRs167w3HPwhz+UL0Bv327NPnfcYb1tBg2yG7IhM2ZY9stqxAN+NeSjiZ1LYPFieOgheOIJq40ffbR1tTzmmPL3nPn2W0uTMGWKDZrq3t3SKYClNP7uO2jSJFWfIGW8Scc5VzN88w2cc471nR86FE4+2drbx42DY48tX7DfuhX+/ncL8IsWwcsvW/t9KNhfe61dUKphsAev4TvnqjNV+OADa3p5/31LN3z55XD11dC+fcX2NWUK/PnPMH06nH22Bf7IXPXvvWfpj6sxD/jOuepn2zZ49VUL9NOmQYsWcNddlt6gadNfNyvXqPTNm+HOO619fpddbLrBdu1KBvvFi6FNm/R8thTyJh3nXPWxYYO1z3fqZHnnN2+2nPQLF1qzS1Swv+n16RSsKUQJj0ofNbUgvL8vvoD997feOueea23zS5ZYbxywdZs314hgDx7wnXPVwfLlcPPN0LatpRpu185q4jNn2kCo0IQjERKNSmfTJhto1aOHXUTeew/++19LeXzZZbbxPfdYM0+MfVdX3qTjnMtes2dbIrPhw60Z55RTLPXBwQeX+dZ4o8/bTP8K9r3YRs1ecokF9uLikrnqJ02CAw9M1qfIGkmp4YvIcSIyR0TmisiNMdafJyIrRWRa8LggGcd1ztVAqjZ5SN++Nm3g889bF8k5c2DkyHIFeyg9+rzB1kL+Pu4/vPLijRbgJ0ywnDjff1+iKYjVq2tksIckBHwRqQ08ChwP7AX0F5FYY5RfUdX9gseTVT2uc66GKSqy3DY9elgCss8/h7/9DX780QJz5E3Ucogcld5z4TTef+oyzvn6Heb1P9/62f/+93bTNxTcjz/eyhAZ/GuYZDTpHATMVdX5ACLyMtAX+C4J+66cMWPsrv0BB2SsCM65cioshGHDrOlm7lzrR//II9ZFMlYO+nLq1601ddavo/j66zn5q3dY1KwNnz39Or3+3M9q+N26WQ8fsNQLf/5zUj5ONktGwG8NLI54vQT4XYztThORXsD3wDWqujh6AxG5CLgIoF27dpUrTVGRpTgFG0L98suV249zLrV+/jmcg37lShvsNGKE3TiNl4O+IsaMoc/FF1tahUGDaHfHHbTLy7Mmm513Dm83Zw785jdVP141kK5eOm8BHVS1KzAOGBZrI1V9QlW7q2r35rGmESuP2rXD04y98oqNrlu6tHL7cs4l3/z5NjiqbVubNvDAA+HDD+1G6RlnVD3Yr15tXSz79IH8fOt6ec89kJdn9wYig31hYc4Ee0hOwC8A2ka8bhMs+5Wq/qyqW4KXTwKpbWs54YSS0421bm1fF51zmfPVV3DmmdYW/8QT9g18xgyroB1xRHJmiHrjDUtz/NJLcNtt1q0y1EZ/223hyUkGDLCbw/XrV/2Y1YmqVumBNQvNBzoC9YBvgL2jtmkZ8fwU4Iuy9nvAAQdoUtxzj6r9au2xaVNy9uucK1tRkerbb6sefrj9/zVpojpokOqSJck9zooVqmeeacfYbz/VqVNLlqFVq3AMGDUqucfOMsBkjRNXq1zDV9XtwOXAWGAWMEJVZ4rInSJycrDZlSIyU0S+Aa4Ezqvqcctt0CAbFh3SoAG8+27aDu9cTtqyxaYN7NLFmlbmzYP77rP/xXvusW/dyaBq9+n22stq9//4hzUN7befrV+xwpqIQs26S5ZYd89cFe9KkOlH0mr4IcXFqqefHr7K9+hhV37nXPKsWWPfqkM16i5dVIcPV926NfnHWrpUtW9fO86BB6rOmFFy/Xvvhf/fmzZV3b49+WXIQqSyhl9tiFiypYkT7fXEiXblnz07s+VyriZYsgSuv95uxN5wgw2Yeu+9cMriZM4IpWrdOPfaC8aOtb70EyeWnIzk8svhuOPs+fXX243cZPT8qeZyL7XCIYdYzut27Sw/x557Wo5rv6nrXMV9+6011bz0kgXiM8+0ALv//qk53uLFcPHF1izbs6f1n4/sZVNUZLlvioIcOh9+aDeEHZCrydPq1rW+uc88Y68feMC+AaxendlyVdKoqQX0HDyBjjeOoefgCSWzATqXbKEc9McdB/vua6NjL7vMBk29+GJqgr2q9ezZe2/4+GOb4OSTT0oG+0WLLB9OKNj//LMH+yi5GfBDzjsPVq0Kv955Z0vSVI2UKwWsc8mwfbvV5Lt3t2kDp02zm6SLFlnK4g4dUnPcBQvseBdfbMeePh2uvBJqRYSvV18NT3jSubONpN1pp9SUpxrL7YAPFuRV4Yor7PWAAdbcs3VrZstVTglTwDqXDBs2WI26UyebCWrjRqttL1wIt9ySusBaXAwPPwz77GN9+B9/3L5Z7LZbye3+8AdrSgKbBGX27JJ9+ouK7H/cecD/1b/+ZTUHsHbCHXaA//0vs2Uqh3gpYOMtd67cfvoJbr3VKkBXX22TgIwaZZOEXHhhagct/fADHH641eQPO8wGaF10UclAvnmzvR4xwl5PmhSee3bjRuumOWCAzWIVuiDkOA/4kfbZx3Juh0bm9ehhtYfi4syWK4HoFLBlLXeuTHPmWHBt395qzEccYb1gQimLa6UwbBQVWQeKrl0tyD/zjN2gjc6t9d13liohZN06a1J65hkrY7NmlpNn+HDrnXPppakrczXiAT9anTpWUxg92l6PGGF/MIsWZbZccUSmgA3Jq1ubgb07Z6hErtr6/HPo1896rg0fbve4Zs+2m7KHHJL643/3nfW8uf56OPZYm83qvPNKp1x47LFwF8w2bewC0aePZcj9y1+sZ87mzbb+mGPCqZCdB/y4Tj4Z1q4Nv27f3iY5zjL9urXm7lO70Do/DwFa5+dx96ldSk/U7FwsRUXW9NGjBxx6KHz6qTXjLFpkgTUdicW2bbNvEt26hXv6jBoFrVqV3K642Jp5/vrX8LIlS2yqwjVrrNwPPQQ77mg98YYMsbEALVqk/jNUF/FGZGX6kfSRtlXxj3+UzMezdm2mS+Rc1WzapPrYY6p77GF/0x07qj78sOqGDektx7Rpqt26WRnOOEP1p59Kb7Ntm+rrr5f8HwTVXr1UH3hAdd482+Zvf1OtVUu1UyfVr75K7+fIIiQYaZvxwB7vkVUB/4MPVM89t+Qf26BBNpS7oMD+eYqLM11K58q2apXqnXeqNm9uf8cHHKD6yisWMNNpyxYL0HXqqO6yi+prr5Vcv2GDBfno/zuwC9OKFeFtFy5U7dnT1p17ruq6den9LFkmUcDPvZG2lfHCC6X75997b8kmnnr1bGq0eI/8/PjrGjZMTmpY5+JZsAAefBCeespShx9/vE0Gnqy0xBUxebLNLjVjhqVdePBB6x69ciW8/bY157z/frgdPuSoo2DcuJLlffVV6zFUXGz/p2efndaPUt14wC+Pxx+3m0R/+5t192re3P44Q846y3KIrFkDv/xij+XLYdYse752beJ+wHXqlH1RiLe+SRO/WLj4pkyxtuxXX7XOB2efbTdF99kn/WXZvBnuuMPK06IFvPWW/V8NH25B/rPPLHC3a2c3ax97LPzeYcNsUpOQjRutq+iTT8JBB9mAsOj++a4U0SwdkNC9e3edPHlypotR0qJF1i949Gj745o/P7zu8sutL3+s4FtcbEE/8oIQ6xFr/Zo14aHisdSqVfJCUJGLxo47ekKpmkjVblYOGWI9Vpo0sVGqV12VvLTEFTVxovWgmTPHUi8ceih89JH1oAFLo9yvnz122cUqUCGzZsFvfxt+/c03VsmaM8cStd15Z3KTs1VzIjJFVbvHXOcBvxJGjbKRuQUFpWvuBQWlexdUhSqsX5/4opDoorFtW/x9i1gwKG/TU/Q2dfwLYlbZutVquvfdZ80lrVtbLfjCC+3ingmbNllQfuSRkstr1bIumP36Wb/53Xe35e+8AyeeGN5u/Xpo1Mieq1qlatAgawJ67jlr5nEleMBPhfXrbT7OoUNLD8x6/HEbuJJpqvYPV9a3iHgXjeg21GiNGlX8fkXoUa9eGk5Ajli71lIdDB1qFY599rH2+bPOytx53rgRbr7ZAnSkk06yIN+nj9XkQ0LpTR591F6fc44144S+Ma9cae3+Y8bYe595xgZXuVI84KfS11/b1+XosrZpYwNHmjTJTLmSYfPm8jc9RT8i5xSOJS+v8je583wUMWB90IcOtQrG+vVw5JEW6Hv3zsx9nVWr7Kbrc8/BhAnh5e3a2Y3ZY48N19YjrVsHHTuGs9W+/LKNcA8ZP94uAL/8Yt9eLrvM71sl4AE/1YqK4N//tkRS69eXXPfBB/aPmGu2bk18YUi0LvocRtthh8rf5K4JPaKmT7fA9+KL9u3yjDMs0B9wQPrLsmCB3dMaNcoGbUV+2913X0tlnKg56bvvSk5cMmdOeLDX1q028fiQIdaG//LLlnLBJeQBP10KCqzN9LXXSi4/5RT7Y03D1+tRUwsYMnYOS9cU0io/j4G9O1e/Ubfbt1szRXmbniIf5e0RVZkLRiZ7RKnaTc4hQyy3TIMGcP75cM01VjtOZzm++cYC/KhR9hzsJmto7ujOna3Jpax0DMOGWW8csPP744/QuLG9njcP+ve3LJkXXWTfEBo0SMEHqnk84KfbmDH2tfPHH0su/+47y1OSIqHc+JHpkvPq1s6tVAuhHlEVvV9RmR5RFbloVLZH1PbtMHKkBfopU6zd+4orLL3AzjtX5gxVrgyffRYO8j/+aBe+Qw+19vjatW1Myk8/2TeN229PnElz2zYL5iNH2utLLrG2+1BStueft89Xp451uzzttBR/wJrFA34mbNxo3cWi8+/cfrs9UlBT7Dl4AgUx0iK3zs/j8xtzsFmpoqJ7RFW0V1RFe0QlumjUq2fB9emnYcMG1rffjX/v35endzuMZs12TP03t02bbPDTqFHWX371amtKO/bY8E3X2rWtq+cLL1i3yqeftglKElm2rGQvtpEjLaslWFv+ZZdZwD/sMPsZnSXTlckDfiZ9+619Jf3yy5LLly6Fli2TeqiON44h1m9TgAWDT4yxxiVNrB5RFfmWUUaPqE11d+CX+k1YV78ha+s3YkODxuzRuR3tO7Uu+5tGeZsSQzddQyNdCwvt/X36WJCPvOk6cqSlHF692u5d3Xxz2cf59FPo1Sv8evZsa/4Ba7rp39/uCfztb7ZP7/ZbKYkCvp/RVOva1Qad/Pe/9tU1pFUru+nWv3/SDtUqPy9mDd9z46eBiN0QbtjQemhV1Lff2g3KN9+013XqwAUXwJ578uRbXyNr1rDj5g3suHkDTTZvoM3PS8n76AcYv6nsHlENGsS/IKxdazdWFywo+Z7TTrNukMceW3JQ04oVVgt/7TUbQPX++3ZzNhFV+6Z74432umNHmDrVmrmKi+0G9C23WAXo44+tqcilhNfw02n5cqsVvfFGeFn37taFLXSzqgq8Db8amjjR2udHj7Ya8rnnWrrfzuH5DMr85lZWj6jobxoffVT+8kX2iJo9u+S6m26yNCPxmqYaNrSmzeOPt3sAYJ0a7r/f2uuXLbPPO348nH66jSVo2rQCJ8/F4jX8bNGihU0m8f771lcarP9+kyb2dbeKNZtQUK/2vXRquuJiq8kPGWIBv2lTaxK54grYdddSm5f5za1ePbuZGzmQKVLkTdevv7ZloZuuffpYjvmdd45/sZg500bARsrPh8GDKz5X7PLlloakcWNr89+40b79nn9+9e8uWw14DT9TCguttvPEE+Flf/mLJYzyvCA10+bNlijs/vvh++9tSr5rrrHfe6wBSYFKfXMrz03XeBeIEFV49lkr45Yt8M9/2k3aUG+jyB5R0d8inn4avvgivK82bazJJnLbffe1G7Mp7LmWixLV8DOe9z7eI6vy4afSjBml833PmpXpUrlk+vlnm0Rnl13s97v//qovvVShHPRvfL1Ee9z9gXa44W3tcfcH+sbXS0pvtHKl6jPPqPbtq5qXZ8fKz1c95xzVkSNV168vf5l//FG1d2/bR69eqt9/X773bdumetVV4b/lrl1Vf/ml9HbFxT6HRIrgE6BkuaIi1euuKxn0/+///B+iuluwQPXKK1UbNrTf6XHH2WQ6yfy9zp+v+uCDqocfbrM9gWrbtqpXXGHH2rq1YvsrKrKZsBo3tnI/8ogtK4+fflLt3Dn8NzxwYPnf65LGA351sXhx6dr+smWZLpWrqClTVM86S7V2bZvR6dxzVb/9Njn7Li5WnTpV9fbbVffdN/x30qWL6m232bEre0GZN0/197+3/R19tF2wyut//yv5dztyZOXK4KrMA351EmtKt3//O9OlcmUpLlZ9913VI4+031njxqrXX28X8aratk31ww+tqaR9e9u/iOqhh6red5/qDz9Ubf9FRaoPPaTaoIFqkyaq//1v+S8axcWqjz5a8u91xoyqlcdViQf86mTy5NIBP/RYsybTpXPRtmxRHTbMatig2qqV6r33Vv13tXGj6htvqA4YoLrTTrbvHXZQ7dNH9cknY0/2XRmzZ4fngz3hBNVFiypWxj/8Ifz3efDBqqtXJ6dcrtI84FdH8QL/vfdmumROVXXtWtUhQ1Rbt7bfy9572w3TLVsqv894N13/9Ceb5LsiN13Lsm2b/S3Vr6/atKnq8OEVawqaOzd8ExpUb7hBdfv25JXPVZoH/Ops0aLYgX/SpEyXLDcVFKgOGmRNH6B6xBGqY8ZUvt18wQJrTjniiPBN1zZtVC+/XHX8+IrfdC2P6dNVDzzQjtWvn+rSpRV7/5tvlvxbHDEi+WV0leYBvyZYtix24B871nvzpMOMGarnnadat64F5jPPVP3qq4rvp7hYddo01TvuUN1vv/DvcZ99VG+91b7Zper3uXWr9f6qW1e1WTPVl1+u2LG2b1e95ZZwmWvVSt7NaJc0iQK+j7StLlq0sH+zt96Ck08OLw+N2G3XzkYr5ufbyMu6deP/TLQu1ra5OgJS1XK7DBliI03z8mx2s2uusUnsy2v7dvj883B64YUL7Zz27Gl5ZPr2hU6dUvQhAlOn2gCvadNs6sN//cvSIpTXqlU20UooLUOvXpYiZKedUlFalyI+0rY6+uUXOPro8DD5VKtTp2IXiPJuW9GfFX1P7dqVu1ht324pMIYMsdQXzZtb2oNLLy1/DvpNm2DcuPBI159/tpGuxxxjI11POqnska7JsGUL/OMflgahWTP4z3/s+BUxebKlYdiyxV4PGgR33VW5/P4u5Tw9ck2lCldeCY88UnrdfvvZMPjf/c7ytG/dmpyfydzX1q2pP0cVuZhs21Y6jTXA2WdbvqOy9rF+PYwdWzo52a67wplnWjqDnXYqX3mSEUwnTbJa/cyZMGAAPPBAxWvkV14JDz8cfv3SS/YNwWUtD/g1XfS8oNFuu83Sz+6wQ/rKVB6qNsNUpi9EBQXW5BFt993jly/RZCfJUKtW5b/1FBXZrGshHTpYs1F5L36//AKvvlrywtWzp81KVVYqZJdxHvBzxc8/w4knxq6lhtx+O/zhDzYpdK62zYf88IMlMhs2zBKb9e1rU/T17Bn/PaqWu/6NNywn/MyZtnyXXezcn3CCzf4Uuiik+9vVV1+VLG/DhnbvIXK7RNM4RgulRY6RxdNlp5QnTwOOA+YAc4EbY6zfAXglWP8l0KGsfXovnSqYOFH1iy9UP/5YtV272L17QPXUU1WHDrWh+rmU8+R//7PPLqJar57qBRckTli3bZvqRx+pXn21aocOmvSRrsmwYYPl7RGxMo4fH3/boiIbL7Bunepbb1m//8i/ixNPVH3uOetr76odUtktE6gNzAN2A+oB3wB7RW1zKfBY8Pws4JWy9usBP4mmTFE9/fT4gT80wKdPHxtM9OWXFcrkWC0UFamOHm1BOvR5b745fq6ijRtVR42yrpg776ylRrouX57e8icyYYJqx45WxiuuKHuA1rx51i10993tPQ0aWEbN8eN98FQNkOqAfwgwNuL1TcBNUduMBQ4JntcBVhE0J8V7eMBPgVmzbKh+vKAfCmyg2qiR6rHHqv7zn6qffqq6eXOmS185hYWWG+a3v7XP1b69DXSKFRRXrVJ99lkbjJTqka7JsHat6iWXWDk7dVL95JP4265ZY+fhsMPC31COPNLSQmTb53JVkuqAfzrwZMTrc4BHoraZAbSJeD0PaBZjXxcBk4HJ7dq1S/mJyVkLFqhedpk1Z0QG/Pr1rQZ7222ql15qg4Ei1x1xhGVp/OADqwFns9Wr7WK1665W/m7dVF98sfQ3l8iRrrVra1pGuibDu+9aGuRatSxJW6zfx7Ztqu+8Y/lu6te3z9a5s+pdd1m+e1cjVZuAH/nwGn4aLFtmaQIaNSpd2z/ySGsC+eknS+J19dU2cUdo+H/duqo9eqjedJMFn7VrM/1pzMKFllUylIO+d28L3KERpZkc6ZoMq1dbMxOo7rmn3auJ9s03qtdeG77Y7bSTXeAnTcruz+aSwpt0XGKrV6v+/e/hrIyRj912swk2Qtkf16yx3DGDBll2xDp19Ndh9t27W6AZPdpmeUqnr79W7d8/nIP+nHMs8KlWj5uu5TF6tGrLlvYZb765ZDPbsmWq998fzpFft641Tb3xRtUSurlqJ9UBvw4wH+gYcdN276htLou6aTuirP16wM+A9estaLRsWTrwhx7nn2+ZFceNU5050/K9v/++1Y579bIbm6GA2rWrNY28+mpqbnIWF1suoaOP1l/vO1x3nSWci3fT9cQTrS07m266lmXlStWzz7bP0LWr3YRXVd20yfLhnHBCuDnqoINslqqVKzNbZpcxKQ34tn9OAL4PmmpuCZbdCZwcPK8PvBp0y5wE7FbWPj3gZ1BhoaXpvfZaqzXHavKJbvvv2NGaePr0sVpmgwalt+vcWfWii1RfeKFqE4Ns3WrdBkO12ZYtVQcPtm6E0Tddd9xR9Y9/tIvOunXJOT/pNGKEavPmVmP/+9+tVv/pp6oXXmifLXTP4aabfC5kp6qJA74PvHLlt3y5DVS6777wst/8xvL6rF0LS5fCsmX2c9268u+3Vy8brt+zJ7RqZflqYg0KW78e/vtfeOghWLwY9trLEno1aADvvguffmqDilq3tnwx/frB4Yfb6NHq5qef4LLLYORI6N4dbr3VEp8NHw7z59uAqtNOs5QJRxxhI3Odw0faumTbsgVGjIChQ2HKFGjaFC64wAJU+/a2zaZN4eAf+XPxYnjvPRu+X5aDDrILAFgSskgdO0LjxjbqFSzb5Ekn2WO//aC42IL/9u32syKPyrwnme8bPjzxeXnySRst3ahRRX5rLkd4wHepoQoTJ1rgf/11e33UURaIyhvc1q+3FAe5oHbt0o86dcLPly+3cxhPixZ2Qf3wQ0uX4FwMiQK+58N3lRfK6d6zp9XcH33U8sZD7OBWu7YlcIt83aYN7LNPyWUvvpjacu+4I7Rta8du08aet20LLVuG0ypX5BEZtOM9EjW5qMLTT8O114abwnbeGfr3tyabAw7wvEcuKbyG77JDUVE4B31kArAdd7QLwk47Wa32669h7lxb17ixXWx69bK2+u5BpWb58nATUqxmpaVLYeXK0mWoVcuShLVsaY9WrWL/3HVXC/LJ8tBDNqlK3bqWQnnAADj+eLv4OFdBXsN32W30aLjuOpg3z16XddO1oMBu0H78MXzyCdx8sy3Py4NDDglfAI47Ln7Tx7ZtdmM0+mIQer50qU38sWJF6WYWEcuOGetiEPm8RYvy3TA+4QS7sJ18cvknWHGuEryG7zLvnHMsH30oyFe0CWPlSrsAfPKJXQS++caCdL16duO3Vy979Ohh3wpiUbWb0Rs22GPjRvu5dq1diObOtXsN339vvWTKkw9fxOYh+L//K/9nca6K/Katq/mmT4dnnrGbwj//bMF/yZLE72ne3GrgoSBfXFz+49WrZ10jGzUK/4z1/PTT4bDDqvbZnKsAb9JxNV/XrhV/T6gd/8orw0E6MmjHCuQNG9rD29ddNeQB39UMP/xgffWje8xs326zWW3eDIWFpZ+3aQP33JPp0juXFh7wXc3QqRNcf32mS+FcVvPx2M45lyM84DvnXI7wgO+ccznCA75zzuUIv2nrXAaNmlrAkLFzWLqmkFb5eQzs3Zl+3VpnuliuhvKA71yGjJpawE2vT6dwWxEABWsKuen16QAe9F1KeJOOcxkyZOycX4N9SOG2IoaMnZOhErmazgO+cxmydE1hhZY7V1Ue8J3LkFb5sTN5xlvuXFV5wHcuBUZNLaDn4Al0vHEMPQdPYNTUglLbDOzdmby6tUssy6tbm4G9O6ermC7H+E1b55KsvDdjQ8+9l45LFw/4ziVZopux0cG8X7fWHuBd2njAd6V43/Cq8ZuxLlt5G74rIdQcUbCmECXcHBGrDdrF5jdjXbbygO9K8L7hVec3Y1228iYdV4I3R1Sd34x12coDviuhVX4eBTGCuzdHVIzfjHXZyJt0XAneHOFczeU1fFeCN0c4V3N5wHeleHOEczWTN+k451yO8IDvnHM5wgO+c87lCA/4zjmXIzzgO+dcjvCA75xzOcIDvnPO5QgP+M45lyOqFPBFZCcRGSciPwQ/m8bZrkhEpgWPN6tyTOecc5VT1Rr+jcAHqroH8EHwOpZCVd0veJxcxWM655yrhKoG/L7AsOD5MKBfFffnnHMuRaoa8HdV1WXB8+XArnG2qy8ik0XkCxHpF29nInJRsN3klStXVrFozjnnIpWZPE1ExgMtYqy6JfKFqqqIaJzdtFfVAhHZDZggItNVdV70Rqr6BPAEQPfu3ePtyznnaox0ziFdZsBX1aPjrRORn0SkpaouE5GWwIo4+ygIfs4XkY+AbkCpgO+cc7kkNId0aFrR0BzSQEqCflWbdN4EBgTPBwCjozcQkaYiskPwvBnQE/iuisd1WWbU1AJ6Dp5AxxvH0HPwBJ/03LlySPcc0lUN+IOBY0TkB+Do4DUi0l1Engy22ROYLCLfAB8Cg1XVA34NEqqlFKwpRAnXUjzoO5dYuueQrtIEKKr6M3BUjOWTgQuC5xOBLlU5jstuiWopPpGKc/Glew5pH2nrqizdtRTnaop0zyHtAd9VWbzaSKpqKc7VFP26tebuU7vQOj8PAVrn53H3qV0y10vHubIM7N25RE8DSG0txbmaJHIO6VAXzWtemZaSLpoe8F2Vhf4g09WX2LmaKB1dND3gu6SIrKU45youHZ0fvA3fOeeyQDo6P3jAd865LJCOzg8e8J1zLguko4umt+E751wWSEfnBw/4zjmXJVLd+cEDvsuodKaGdS7XecB3GZPu1LDO5Tq/aesyJt2pYZ3LdR7wXcZ40jXn0ssDvssYT7rmXHp5wHcZk+7UsM7lOr9p6zLGk645l14e8F1GedI159LHm3Sccy5HeMB3zrkc4QHfOedyhAd855zLER7wnXMuR3jAd865HOEB3znncoQHfOecyxEe8J1zLkd4wHfOuRzhAd8553KEB3znnMsRHvCdcy5HeLZMl5N88nSXizzgu5zjk6e7XOVNOi7n+OTpLld5wHc5xydPd7nKA77LOT55ustVHvBdzvHJ012u8pu2Luf45OkuV1Up4IvIGcAdwJ7AQao6Oc52xwFDgdrAk6o6uCrHda6qfPJ0l4uqWsOfAZwKPB5vAxGpDTwKHAMsAb4SkTdV9bsqHts5wPvUO1deVQr4qjoLQEQSbXYQMFdV5wfbvgz0BTzguyrzPvXOlV86btq2BhZHvF4SLHOuyrxPvXPlV2YNX0TGAy1irLpFVUcnszAichFwEUC7du2SuWtXQ3mfeufKr8yAr6pHV/EYBUDbiNdtgmWxjvUE8ARA9+7dtYrHdTmgVX4eBTGCu/epd660dDTpfAXsISIdRaQecBbwZhqO63KA96l3rvyqFPBF5BQRWQIcAowRkbHB8lYi8g6Aqm4HLgfGArOAEao6s2rFds7069aau0/tQuv8PARonZ/H3ad28Ru2zsUgqtnZctK9e3edPDlmt37nnHNxiMgUVe0ea52nVnDOuRzhAd8553KEB3znnMsRHvCdcy5HeMB3zrkckbW9dERkJfBjpsuRRM2AVZkuRJbwcxHm5yLMz0VYVc5Fe1VtHmtF1gb8mkZEJsfrKpVr/FyE+bkI83MRlqpz4U06zjmXIzzgO+dcjvCAnz5PZLoAWcTPRZifizA/F2EpORfehu+ccznCa/jOOZcjPOA751yO8ICfYiLSVkQ+FJHvRGSmiFyV6TJlkojUFpGpIvJ2psuSaSKSLyKvichsEZklIodkukyZIiLXBP8fM0TkJRGpn+kypYuIPC0iK0RkRsSynURknIj8EPxsmoxjecBPve3Adaq6F3AwcJmI7JXhMmXSVdi8CA6GAu+p6m+BfcnR8yIirYErge6qug9QG5soKVc8CxwXtexG4ANV3QP4IHhdZR7wU0xVl6nq18Hz9dg/dU7OziEibYATgSczXZZME5EdgV7AUwCqulVV12S0UJlVB8gTkTpAA2BphsuTNqr6CbA6anFfYFjwfBjQLxnH8oCfRiLSAegGfJnhomTKQ8AgoDjD5cgGHYGVwDNBE9eTItIw04XKBFUtAO4DFgHLgLWq+n5mS5Vxu6rqsuD5cmDXZOzUA36aiEgjYCRwtaquy3R50k1E+gArVHVKpsuSJeoA+wP/UdVuwEaS9LW9ugnap/tiF8FWQEMR+VNmS5U91PrOJ6X/vAf8NBCRuliwf0FVX890eTKkJ3CyiCwEXgaOFJHnM1ukjFoCLFHV0Le917ALQC46GligqitVdRvwOtAjw2XKtJ9EpCVA8HNFMnbqAT/FRESwdtpZqvpApsuTKap6k6q2UdUO2A25Caqas7U4VV0OLBaRzsGio4DvMlikTFoEHCwiDYL/l6PI0RvYEd4EBgTPBwCjk7FTD/ip1xM4B6vRTgseJ2S6UC4rXAG8ICLfAvsBd2W2OJkRfMt5DfgamI7FpZxJsyAiLwH/AzqLyBIROR8YDBwjIj9g34AGJ+VYnlrBOedyg9fwnXMuR3jAd865HOEB3znncoQHfOecyxEe8J1zLkd4wHfOuRzhAd8553LE/wNljuhU8+P7QgAAAABJRU5ErkJggg==\n"
                },
                "metadata": {
                  "needs_background": "light"
                }
              }
            ]
          }
        },
        "2377fe5843324c3a8078c985d3a8cc88": {
          "model_module": "@jupyter-widgets/base",
          "model_name": "LayoutModel",
          "model_module_version": "1.2.0",
          "state": {
            "_model_module": "@jupyter-widgets/base",
            "_model_module_version": "1.2.0",
            "_model_name": "LayoutModel",
            "_view_count": null,
            "_view_module": "@jupyter-widgets/base",
            "_view_module_version": "1.2.0",
            "_view_name": "LayoutView",
            "align_content": null,
            "align_items": null,
            "align_self": null,
            "border": null,
            "bottom": null,
            "display": null,
            "flex": null,
            "flex_flow": null,
            "grid_area": null,
            "grid_auto_columns": null,
            "grid_auto_flow": null,
            "grid_auto_rows": null,
            "grid_column": null,
            "grid_gap": null,
            "grid_row": null,
            "grid_template_areas": null,
            "grid_template_columns": null,
            "grid_template_rows": null,
            "height": null,
            "justify_content": null,
            "justify_items": null,
            "left": null,
            "margin": null,
            "max_height": null,
            "max_width": null,
            "min_height": null,
            "min_width": null,
            "object_fit": null,
            "object_position": null,
            "order": null,
            "overflow": null,
            "overflow_x": null,
            "overflow_y": null,
            "padding": null,
            "right": null,
            "top": null,
            "visibility": null,
            "width": null
          }
        },
        "3584ea324893474093d961e6bdd58664": {
          "model_module": "@jupyter-widgets/base",
          "model_name": "LayoutModel",
          "model_module_version": "1.2.0",
          "state": {
            "_model_module": "@jupyter-widgets/base",
            "_model_module_version": "1.2.0",
            "_model_name": "LayoutModel",
            "_view_count": null,
            "_view_module": "@jupyter-widgets/base",
            "_view_module_version": "1.2.0",
            "_view_name": "LayoutView",
            "align_content": null,
            "align_items": null,
            "align_self": null,
            "border": null,
            "bottom": null,
            "display": null,
            "flex": null,
            "flex_flow": null,
            "grid_area": null,
            "grid_auto_columns": null,
            "grid_auto_flow": null,
            "grid_auto_rows": null,
            "grid_column": null,
            "grid_gap": null,
            "grid_row": null,
            "grid_template_areas": null,
            "grid_template_columns": null,
            "grid_template_rows": null,
            "height": null,
            "justify_content": null,
            "justify_items": null,
            "left": null,
            "margin": null,
            "max_height": null,
            "max_width": null,
            "min_height": null,
            "min_width": null,
            "object_fit": null,
            "object_position": null,
            "order": null,
            "overflow": null,
            "overflow_x": null,
            "overflow_y": null,
            "padding": null,
            "right": null,
            "top": null,
            "visibility": null,
            "width": null
          }
        },
        "2396d9b28bc84e9daab06b33d52253c5": {
          "model_module": "@jupyter-widgets/controls",
          "model_name": "SliderStyleModel",
          "model_module_version": "1.5.0",
          "state": {
            "_model_module": "@jupyter-widgets/controls",
            "_model_module_version": "1.5.0",
            "_model_name": "SliderStyleModel",
            "_view_count": null,
            "_view_module": "@jupyter-widgets/base",
            "_view_module_version": "1.2.0",
            "_view_name": "StyleView",
            "description_width": "",
            "handle_color": null
          }
        },
        "bb4ff9b3a95b41b3899a8c6220f61ca5": {
          "model_module": "@jupyter-widgets/base",
          "model_name": "LayoutModel",
          "model_module_version": "1.2.0",
          "state": {
            "_model_module": "@jupyter-widgets/base",
            "_model_module_version": "1.2.0",
            "_model_name": "LayoutModel",
            "_view_count": null,
            "_view_module": "@jupyter-widgets/base",
            "_view_module_version": "1.2.0",
            "_view_name": "LayoutView",
            "align_content": null,
            "align_items": null,
            "align_self": null,
            "border": null,
            "bottom": null,
            "display": null,
            "flex": null,
            "flex_flow": null,
            "grid_area": null,
            "grid_auto_columns": null,
            "grid_auto_flow": null,
            "grid_auto_rows": null,
            "grid_column": null,
            "grid_gap": null,
            "grid_row": null,
            "grid_template_areas": null,
            "grid_template_columns": null,
            "grid_template_rows": null,
            "height": null,
            "justify_content": null,
            "justify_items": null,
            "left": null,
            "margin": null,
            "max_height": null,
            "max_width": null,
            "min_height": null,
            "min_width": null,
            "object_fit": null,
            "object_position": null,
            "order": null,
            "overflow": null,
            "overflow_x": null,
            "overflow_y": null,
            "padding": null,
            "right": null,
            "top": null,
            "visibility": null,
            "width": null
          }
        },
        "ab92d70b3ccb461f9447d4f7373b8ac8": {
          "model_module": "@jupyter-widgets/controls",
          "model_name": "SliderStyleModel",
          "model_module_version": "1.5.0",
          "state": {
            "_model_module": "@jupyter-widgets/controls",
            "_model_module_version": "1.5.0",
            "_model_name": "SliderStyleModel",
            "_view_count": null,
            "_view_module": "@jupyter-widgets/base",
            "_view_module_version": "1.2.0",
            "_view_name": "StyleView",
            "description_width": "",
            "handle_color": null
          }
        },
        "ace6acb2beef4eb2a3c14e62a8851b0a": {
          "model_module": "@jupyter-widgets/base",
          "model_name": "LayoutModel",
          "model_module_version": "1.2.0",
          "state": {
            "_model_module": "@jupyter-widgets/base",
            "_model_module_version": "1.2.0",
            "_model_name": "LayoutModel",
            "_view_count": null,
            "_view_module": "@jupyter-widgets/base",
            "_view_module_version": "1.2.0",
            "_view_name": "LayoutView",
            "align_content": null,
            "align_items": null,
            "align_self": null,
            "border": null,
            "bottom": null,
            "display": null,
            "flex": null,
            "flex_flow": null,
            "grid_area": null,
            "grid_auto_columns": null,
            "grid_auto_flow": null,
            "grid_auto_rows": null,
            "grid_column": null,
            "grid_gap": null,
            "grid_row": null,
            "grid_template_areas": null,
            "grid_template_columns": null,
            "grid_template_rows": null,
            "height": null,
            "justify_content": null,
            "justify_items": null,
            "left": null,
            "margin": null,
            "max_height": null,
            "max_width": null,
            "min_height": null,
            "min_width": null,
            "object_fit": null,
            "object_position": null,
            "order": null,
            "overflow": null,
            "overflow_x": null,
            "overflow_y": null,
            "padding": null,
            "right": null,
            "top": null,
            "visibility": null,
            "width": null
          }
        }
      }
    }
  },
  "cells": [
    {
      "cell_type": "markdown",
      "metadata": {
        "id": "view-in-github",
        "colab_type": "text"
      },
      "source": [
        "<a href=\"https://colab.research.google.com/github/MauJuarez/IBM_Python_Data_Analysis/blob/main/IBM_mod_5.ipynb\" target=\"_parent\"><img src=\"https://colab.research.google.com/assets/colab-badge.svg\" alt=\"Open In Colab\"/></a>"
      ]
    },
    {
      "cell_type": "markdown",
      "source": [
        "# Notebook correspondiente al 5to Modulo del curso de IBM Data Analysis with Python\n"
      ],
      "metadata": {
        "id": "Ogg-YkUj2CTe"
      }
    },
    {
      "cell_type": "code",
      "execution_count": null,
      "metadata": {
        "colab": {
          "base_uri": "https://localhost:8080/",
          "height": 386
        },
        "id": "qJOog-cZuq8f",
        "outputId": "61cdd31a-2284-489d-9614-a5cc56e78ccf"
      },
      "outputs": [
        {
          "output_type": "execute_result",
          "data": {
            "text/plain": [
              "   symboling  normalized-losses         make aspiration num-of-doors  \\\n",
              "0          3                122  alfa-romero        std          two   \n",
              "1          3                122  alfa-romero        std          two   \n",
              "2          1                122  alfa-romero        std          two   \n",
              "3          2                164         audi        std         four   \n",
              "4          2                164         audi        std         four   \n",
              "\n",
              "    body-style drive-wheels engine-location  wheel-base    length  ...  \\\n",
              "0  convertible          rwd           front        88.6  0.811148  ...   \n",
              "1  convertible          rwd           front        88.6  0.811148  ...   \n",
              "2    hatchback          rwd           front        94.5  0.822681  ...   \n",
              "3        sedan          fwd           front        99.8  0.848630  ...   \n",
              "4        sedan          4wd           front        99.4  0.848630  ...   \n",
              "\n",
              "   compression-ratio  horsepower  peak-rpm city-mpg highway-mpg    price  \\\n",
              "0                9.0       111.0    5000.0       21          27  13495.0   \n",
              "1                9.0       111.0    5000.0       21          27  16500.0   \n",
              "2                9.0       154.0    5000.0       19          26  16500.0   \n",
              "3               10.0       102.0    5500.0       24          30  13950.0   \n",
              "4                8.0       115.0    5500.0       18          22  17450.0   \n",
              "\n",
              "  city-L/100km  horsepower-binned  diesel  gas  \n",
              "0    11.190476             Medium       0    1  \n",
              "1    11.190476             Medium       0    1  \n",
              "2    12.368421             Medium       0    1  \n",
              "3     9.791667             Medium       0    1  \n",
              "4    13.055556             Medium       0    1  \n",
              "\n",
              "[5 rows x 29 columns]"
            ],
            "text/html": [
              "\n",
              "  <div id=\"df-46fa8463-878c-4461-8603-ebc1aa06518b\">\n",
              "    <div class=\"colab-df-container\">\n",
              "      <div>\n",
              "<style scoped>\n",
              "    .dataframe tbody tr th:only-of-type {\n",
              "        vertical-align: middle;\n",
              "    }\n",
              "\n",
              "    .dataframe tbody tr th {\n",
              "        vertical-align: top;\n",
              "    }\n",
              "\n",
              "    .dataframe thead th {\n",
              "        text-align: right;\n",
              "    }\n",
              "</style>\n",
              "<table border=\"1\" class=\"dataframe\">\n",
              "  <thead>\n",
              "    <tr style=\"text-align: right;\">\n",
              "      <th></th>\n",
              "      <th>symboling</th>\n",
              "      <th>normalized-losses</th>\n",
              "      <th>make</th>\n",
              "      <th>aspiration</th>\n",
              "      <th>num-of-doors</th>\n",
              "      <th>body-style</th>\n",
              "      <th>drive-wheels</th>\n",
              "      <th>engine-location</th>\n",
              "      <th>wheel-base</th>\n",
              "      <th>length</th>\n",
              "      <th>...</th>\n",
              "      <th>compression-ratio</th>\n",
              "      <th>horsepower</th>\n",
              "      <th>peak-rpm</th>\n",
              "      <th>city-mpg</th>\n",
              "      <th>highway-mpg</th>\n",
              "      <th>price</th>\n",
              "      <th>city-L/100km</th>\n",
              "      <th>horsepower-binned</th>\n",
              "      <th>diesel</th>\n",
              "      <th>gas</th>\n",
              "    </tr>\n",
              "  </thead>\n",
              "  <tbody>\n",
              "    <tr>\n",
              "      <th>0</th>\n",
              "      <td>3</td>\n",
              "      <td>122</td>\n",
              "      <td>alfa-romero</td>\n",
              "      <td>std</td>\n",
              "      <td>two</td>\n",
              "      <td>convertible</td>\n",
              "      <td>rwd</td>\n",
              "      <td>front</td>\n",
              "      <td>88.6</td>\n",
              "      <td>0.811148</td>\n",
              "      <td>...</td>\n",
              "      <td>9.0</td>\n",
              "      <td>111.0</td>\n",
              "      <td>5000.0</td>\n",
              "      <td>21</td>\n",
              "      <td>27</td>\n",
              "      <td>13495.0</td>\n",
              "      <td>11.190476</td>\n",
              "      <td>Medium</td>\n",
              "      <td>0</td>\n",
              "      <td>1</td>\n",
              "    </tr>\n",
              "    <tr>\n",
              "      <th>1</th>\n",
              "      <td>3</td>\n",
              "      <td>122</td>\n",
              "      <td>alfa-romero</td>\n",
              "      <td>std</td>\n",
              "      <td>two</td>\n",
              "      <td>convertible</td>\n",
              "      <td>rwd</td>\n",
              "      <td>front</td>\n",
              "      <td>88.6</td>\n",
              "      <td>0.811148</td>\n",
              "      <td>...</td>\n",
              "      <td>9.0</td>\n",
              "      <td>111.0</td>\n",
              "      <td>5000.0</td>\n",
              "      <td>21</td>\n",
              "      <td>27</td>\n",
              "      <td>16500.0</td>\n",
              "      <td>11.190476</td>\n",
              "      <td>Medium</td>\n",
              "      <td>0</td>\n",
              "      <td>1</td>\n",
              "    </tr>\n",
              "    <tr>\n",
              "      <th>2</th>\n",
              "      <td>1</td>\n",
              "      <td>122</td>\n",
              "      <td>alfa-romero</td>\n",
              "      <td>std</td>\n",
              "      <td>two</td>\n",
              "      <td>hatchback</td>\n",
              "      <td>rwd</td>\n",
              "      <td>front</td>\n",
              "      <td>94.5</td>\n",
              "      <td>0.822681</td>\n",
              "      <td>...</td>\n",
              "      <td>9.0</td>\n",
              "      <td>154.0</td>\n",
              "      <td>5000.0</td>\n",
              "      <td>19</td>\n",
              "      <td>26</td>\n",
              "      <td>16500.0</td>\n",
              "      <td>12.368421</td>\n",
              "      <td>Medium</td>\n",
              "      <td>0</td>\n",
              "      <td>1</td>\n",
              "    </tr>\n",
              "    <tr>\n",
              "      <th>3</th>\n",
              "      <td>2</td>\n",
              "      <td>164</td>\n",
              "      <td>audi</td>\n",
              "      <td>std</td>\n",
              "      <td>four</td>\n",
              "      <td>sedan</td>\n",
              "      <td>fwd</td>\n",
              "      <td>front</td>\n",
              "      <td>99.8</td>\n",
              "      <td>0.848630</td>\n",
              "      <td>...</td>\n",
              "      <td>10.0</td>\n",
              "      <td>102.0</td>\n",
              "      <td>5500.0</td>\n",
              "      <td>24</td>\n",
              "      <td>30</td>\n",
              "      <td>13950.0</td>\n",
              "      <td>9.791667</td>\n",
              "      <td>Medium</td>\n",
              "      <td>0</td>\n",
              "      <td>1</td>\n",
              "    </tr>\n",
              "    <tr>\n",
              "      <th>4</th>\n",
              "      <td>2</td>\n",
              "      <td>164</td>\n",
              "      <td>audi</td>\n",
              "      <td>std</td>\n",
              "      <td>four</td>\n",
              "      <td>sedan</td>\n",
              "      <td>4wd</td>\n",
              "      <td>front</td>\n",
              "      <td>99.4</td>\n",
              "      <td>0.848630</td>\n",
              "      <td>...</td>\n",
              "      <td>8.0</td>\n",
              "      <td>115.0</td>\n",
              "      <td>5500.0</td>\n",
              "      <td>18</td>\n",
              "      <td>22</td>\n",
              "      <td>17450.0</td>\n",
              "      <td>13.055556</td>\n",
              "      <td>Medium</td>\n",
              "      <td>0</td>\n",
              "      <td>1</td>\n",
              "    </tr>\n",
              "  </tbody>\n",
              "</table>\n",
              "<p>5 rows × 29 columns</p>\n",
              "</div>\n",
              "      <button class=\"colab-df-convert\" onclick=\"convertToInteractive('df-46fa8463-878c-4461-8603-ebc1aa06518b')\"\n",
              "              title=\"Convert this dataframe to an interactive table.\"\n",
              "              style=\"display:none;\">\n",
              "        \n",
              "  <svg xmlns=\"http://www.w3.org/2000/svg\" height=\"24px\"viewBox=\"0 0 24 24\"\n",
              "       width=\"24px\">\n",
              "    <path d=\"M0 0h24v24H0V0z\" fill=\"none\"/>\n",
              "    <path d=\"M18.56 5.44l.94 2.06.94-2.06 2.06-.94-2.06-.94-.94-2.06-.94 2.06-2.06.94zm-11 1L8.5 8.5l.94-2.06 2.06-.94-2.06-.94L8.5 2.5l-.94 2.06-2.06.94zm10 10l.94 2.06.94-2.06 2.06-.94-2.06-.94-.94-2.06-.94 2.06-2.06.94z\"/><path d=\"M17.41 7.96l-1.37-1.37c-.4-.4-.92-.59-1.43-.59-.52 0-1.04.2-1.43.59L10.3 9.45l-7.72 7.72c-.78.78-.78 2.05 0 2.83L4 21.41c.39.39.9.59 1.41.59.51 0 1.02-.2 1.41-.59l7.78-7.78 2.81-2.81c.8-.78.8-2.07 0-2.86zM5.41 20L4 18.59l7.72-7.72 1.47 1.35L5.41 20z\"/>\n",
              "  </svg>\n",
              "      </button>\n",
              "      \n",
              "  <style>\n",
              "    .colab-df-container {\n",
              "      display:flex;\n",
              "      flex-wrap:wrap;\n",
              "      gap: 12px;\n",
              "    }\n",
              "\n",
              "    .colab-df-convert {\n",
              "      background-color: #E8F0FE;\n",
              "      border: none;\n",
              "      border-radius: 50%;\n",
              "      cursor: pointer;\n",
              "      display: none;\n",
              "      fill: #1967D2;\n",
              "      height: 32px;\n",
              "      padding: 0 0 0 0;\n",
              "      width: 32px;\n",
              "    }\n",
              "\n",
              "    .colab-df-convert:hover {\n",
              "      background-color: #E2EBFA;\n",
              "      box-shadow: 0px 1px 2px rgba(60, 64, 67, 0.3), 0px 1px 3px 1px rgba(60, 64, 67, 0.15);\n",
              "      fill: #174EA6;\n",
              "    }\n",
              "\n",
              "    [theme=dark] .colab-df-convert {\n",
              "      background-color: #3B4455;\n",
              "      fill: #D2E3FC;\n",
              "    }\n",
              "\n",
              "    [theme=dark] .colab-df-convert:hover {\n",
              "      background-color: #434B5C;\n",
              "      box-shadow: 0px 1px 3px 1px rgba(0, 0, 0, 0.15);\n",
              "      filter: drop-shadow(0px 1px 2px rgba(0, 0, 0, 0.3));\n",
              "      fill: #FFFFFF;\n",
              "    }\n",
              "  </style>\n",
              "\n",
              "      <script>\n",
              "        const buttonEl =\n",
              "          document.querySelector('#df-46fa8463-878c-4461-8603-ebc1aa06518b button.colab-df-convert');\n",
              "        buttonEl.style.display =\n",
              "          google.colab.kernel.accessAllowed ? 'block' : 'none';\n",
              "\n",
              "        async function convertToInteractive(key) {\n",
              "          const element = document.querySelector('#df-46fa8463-878c-4461-8603-ebc1aa06518b');\n",
              "          const dataTable =\n",
              "            await google.colab.kernel.invokeFunction('convertToInteractive',\n",
              "                                                     [key], {});\n",
              "          if (!dataTable) return;\n",
              "\n",
              "          const docLinkHtml = 'Like what you see? Visit the ' +\n",
              "            '<a target=\"_blank\" href=https://colab.research.google.com/notebooks/data_table.ipynb>data table notebook</a>'\n",
              "            + ' to learn more about interactive tables.';\n",
              "          element.innerHTML = '';\n",
              "          dataTable['output_type'] = 'display_data';\n",
              "          await google.colab.output.renderOutput(dataTable, element);\n",
              "          const docLink = document.createElement('div');\n",
              "          docLink.innerHTML = docLinkHtml;\n",
              "          element.appendChild(docLink);\n",
              "        }\n",
              "      </script>\n",
              "    </div>\n",
              "  </div>\n",
              "  "
            ]
          },
          "metadata": {},
          "execution_count": 1
        }
      ],
      "source": [
        "import pandas as pd\n",
        "import numpy as np\n",
        "import matplotlib.pyplot as plt\n",
        "filename = \"https://cf-courses-data.s3.us.cloud-object-storage.appdomain.cloud/IBMDeveloperSkillsNetwork-DA0101EN-SkillsNetwork/labs/Data%20files/automobileEDA.csv\"\n",
        "df=pd.read_csv(filename,header=0)\n",
        "df.head()"
      ]
    },
    {
      "cell_type": "markdown",
      "source": [
        "First, let's only use numeric data:"
      ],
      "metadata": {
        "id": "YvjUy8V2x6L6"
      }
    },
    {
      "cell_type": "code",
      "source": [
        "df=df._get_numeric_data()\n",
        "df.head()"
      ],
      "metadata": {
        "colab": {
          "base_uri": "https://localhost:8080/",
          "height": 267
        },
        "id": "E4qXnwHWx6dX",
        "outputId": "2fab4d54-156d-4d7b-83e3-661fa8ab7730"
      },
      "execution_count": null,
      "outputs": [
        {
          "output_type": "execute_result",
          "data": {
            "text/plain": [
              "   symboling  normalized-losses  wheel-base    length     width  height  \\\n",
              "0          3                122        88.6  0.811148  0.890278    48.8   \n",
              "1          3                122        88.6  0.811148  0.890278    48.8   \n",
              "2          1                122        94.5  0.822681  0.909722    52.4   \n",
              "3          2                164        99.8  0.848630  0.919444    54.3   \n",
              "4          2                164        99.4  0.848630  0.922222    54.3   \n",
              "\n",
              "   curb-weight  engine-size  bore  stroke  compression-ratio  horsepower  \\\n",
              "0         2548          130  3.47    2.68                9.0       111.0   \n",
              "1         2548          130  3.47    2.68                9.0       111.0   \n",
              "2         2823          152  2.68    3.47                9.0       154.0   \n",
              "3         2337          109  3.19    3.40               10.0       102.0   \n",
              "4         2824          136  3.19    3.40                8.0       115.0   \n",
              "\n",
              "   peak-rpm  city-mpg  highway-mpg    price  city-L/100km  diesel  gas  \n",
              "0    5000.0        21           27  13495.0     11.190476       0    1  \n",
              "1    5000.0        21           27  16500.0     11.190476       0    1  \n",
              "2    5000.0        19           26  16500.0     12.368421       0    1  \n",
              "3    5500.0        24           30  13950.0      9.791667       0    1  \n",
              "4    5500.0        18           22  17450.0     13.055556       0    1  "
            ],
            "text/html": [
              "\n",
              "  <div id=\"df-5cfb844c-e424-494e-9730-168092183cec\">\n",
              "    <div class=\"colab-df-container\">\n",
              "      <div>\n",
              "<style scoped>\n",
              "    .dataframe tbody tr th:only-of-type {\n",
              "        vertical-align: middle;\n",
              "    }\n",
              "\n",
              "    .dataframe tbody tr th {\n",
              "        vertical-align: top;\n",
              "    }\n",
              "\n",
              "    .dataframe thead th {\n",
              "        text-align: right;\n",
              "    }\n",
              "</style>\n",
              "<table border=\"1\" class=\"dataframe\">\n",
              "  <thead>\n",
              "    <tr style=\"text-align: right;\">\n",
              "      <th></th>\n",
              "      <th>symboling</th>\n",
              "      <th>normalized-losses</th>\n",
              "      <th>wheel-base</th>\n",
              "      <th>length</th>\n",
              "      <th>width</th>\n",
              "      <th>height</th>\n",
              "      <th>curb-weight</th>\n",
              "      <th>engine-size</th>\n",
              "      <th>bore</th>\n",
              "      <th>stroke</th>\n",
              "      <th>compression-ratio</th>\n",
              "      <th>horsepower</th>\n",
              "      <th>peak-rpm</th>\n",
              "      <th>city-mpg</th>\n",
              "      <th>highway-mpg</th>\n",
              "      <th>price</th>\n",
              "      <th>city-L/100km</th>\n",
              "      <th>diesel</th>\n",
              "      <th>gas</th>\n",
              "    </tr>\n",
              "  </thead>\n",
              "  <tbody>\n",
              "    <tr>\n",
              "      <th>0</th>\n",
              "      <td>3</td>\n",
              "      <td>122</td>\n",
              "      <td>88.6</td>\n",
              "      <td>0.811148</td>\n",
              "      <td>0.890278</td>\n",
              "      <td>48.8</td>\n",
              "      <td>2548</td>\n",
              "      <td>130</td>\n",
              "      <td>3.47</td>\n",
              "      <td>2.68</td>\n",
              "      <td>9.0</td>\n",
              "      <td>111.0</td>\n",
              "      <td>5000.0</td>\n",
              "      <td>21</td>\n",
              "      <td>27</td>\n",
              "      <td>13495.0</td>\n",
              "      <td>11.190476</td>\n",
              "      <td>0</td>\n",
              "      <td>1</td>\n",
              "    </tr>\n",
              "    <tr>\n",
              "      <th>1</th>\n",
              "      <td>3</td>\n",
              "      <td>122</td>\n",
              "      <td>88.6</td>\n",
              "      <td>0.811148</td>\n",
              "      <td>0.890278</td>\n",
              "      <td>48.8</td>\n",
              "      <td>2548</td>\n",
              "      <td>130</td>\n",
              "      <td>3.47</td>\n",
              "      <td>2.68</td>\n",
              "      <td>9.0</td>\n",
              "      <td>111.0</td>\n",
              "      <td>5000.0</td>\n",
              "      <td>21</td>\n",
              "      <td>27</td>\n",
              "      <td>16500.0</td>\n",
              "      <td>11.190476</td>\n",
              "      <td>0</td>\n",
              "      <td>1</td>\n",
              "    </tr>\n",
              "    <tr>\n",
              "      <th>2</th>\n",
              "      <td>1</td>\n",
              "      <td>122</td>\n",
              "      <td>94.5</td>\n",
              "      <td>0.822681</td>\n",
              "      <td>0.909722</td>\n",
              "      <td>52.4</td>\n",
              "      <td>2823</td>\n",
              "      <td>152</td>\n",
              "      <td>2.68</td>\n",
              "      <td>3.47</td>\n",
              "      <td>9.0</td>\n",
              "      <td>154.0</td>\n",
              "      <td>5000.0</td>\n",
              "      <td>19</td>\n",
              "      <td>26</td>\n",
              "      <td>16500.0</td>\n",
              "      <td>12.368421</td>\n",
              "      <td>0</td>\n",
              "      <td>1</td>\n",
              "    </tr>\n",
              "    <tr>\n",
              "      <th>3</th>\n",
              "      <td>2</td>\n",
              "      <td>164</td>\n",
              "      <td>99.8</td>\n",
              "      <td>0.848630</td>\n",
              "      <td>0.919444</td>\n",
              "      <td>54.3</td>\n",
              "      <td>2337</td>\n",
              "      <td>109</td>\n",
              "      <td>3.19</td>\n",
              "      <td>3.40</td>\n",
              "      <td>10.0</td>\n",
              "      <td>102.0</td>\n",
              "      <td>5500.0</td>\n",
              "      <td>24</td>\n",
              "      <td>30</td>\n",
              "      <td>13950.0</td>\n",
              "      <td>9.791667</td>\n",
              "      <td>0</td>\n",
              "      <td>1</td>\n",
              "    </tr>\n",
              "    <tr>\n",
              "      <th>4</th>\n",
              "      <td>2</td>\n",
              "      <td>164</td>\n",
              "      <td>99.4</td>\n",
              "      <td>0.848630</td>\n",
              "      <td>0.922222</td>\n",
              "      <td>54.3</td>\n",
              "      <td>2824</td>\n",
              "      <td>136</td>\n",
              "      <td>3.19</td>\n",
              "      <td>3.40</td>\n",
              "      <td>8.0</td>\n",
              "      <td>115.0</td>\n",
              "      <td>5500.0</td>\n",
              "      <td>18</td>\n",
              "      <td>22</td>\n",
              "      <td>17450.0</td>\n",
              "      <td>13.055556</td>\n",
              "      <td>0</td>\n",
              "      <td>1</td>\n",
              "    </tr>\n",
              "  </tbody>\n",
              "</table>\n",
              "</div>\n",
              "      <button class=\"colab-df-convert\" onclick=\"convertToInteractive('df-5cfb844c-e424-494e-9730-168092183cec')\"\n",
              "              title=\"Convert this dataframe to an interactive table.\"\n",
              "              style=\"display:none;\">\n",
              "        \n",
              "  <svg xmlns=\"http://www.w3.org/2000/svg\" height=\"24px\"viewBox=\"0 0 24 24\"\n",
              "       width=\"24px\">\n",
              "    <path d=\"M0 0h24v24H0V0z\" fill=\"none\"/>\n",
              "    <path d=\"M18.56 5.44l.94 2.06.94-2.06 2.06-.94-2.06-.94-.94-2.06-.94 2.06-2.06.94zm-11 1L8.5 8.5l.94-2.06 2.06-.94-2.06-.94L8.5 2.5l-.94 2.06-2.06.94zm10 10l.94 2.06.94-2.06 2.06-.94-2.06-.94-.94-2.06-.94 2.06-2.06.94z\"/><path d=\"M17.41 7.96l-1.37-1.37c-.4-.4-.92-.59-1.43-.59-.52 0-1.04.2-1.43.59L10.3 9.45l-7.72 7.72c-.78.78-.78 2.05 0 2.83L4 21.41c.39.39.9.59 1.41.59.51 0 1.02-.2 1.41-.59l7.78-7.78 2.81-2.81c.8-.78.8-2.07 0-2.86zM5.41 20L4 18.59l7.72-7.72 1.47 1.35L5.41 20z\"/>\n",
              "  </svg>\n",
              "      </button>\n",
              "      \n",
              "  <style>\n",
              "    .colab-df-container {\n",
              "      display:flex;\n",
              "      flex-wrap:wrap;\n",
              "      gap: 12px;\n",
              "    }\n",
              "\n",
              "    .colab-df-convert {\n",
              "      background-color: #E8F0FE;\n",
              "      border: none;\n",
              "      border-radius: 50%;\n",
              "      cursor: pointer;\n",
              "      display: none;\n",
              "      fill: #1967D2;\n",
              "      height: 32px;\n",
              "      padding: 0 0 0 0;\n",
              "      width: 32px;\n",
              "    }\n",
              "\n",
              "    .colab-df-convert:hover {\n",
              "      background-color: #E2EBFA;\n",
              "      box-shadow: 0px 1px 2px rgba(60, 64, 67, 0.3), 0px 1px 3px 1px rgba(60, 64, 67, 0.15);\n",
              "      fill: #174EA6;\n",
              "    }\n",
              "\n",
              "    [theme=dark] .colab-df-convert {\n",
              "      background-color: #3B4455;\n",
              "      fill: #D2E3FC;\n",
              "    }\n",
              "\n",
              "    [theme=dark] .colab-df-convert:hover {\n",
              "      background-color: #434B5C;\n",
              "      box-shadow: 0px 1px 3px 1px rgba(0, 0, 0, 0.15);\n",
              "      filter: drop-shadow(0px 1px 2px rgba(0, 0, 0, 0.3));\n",
              "      fill: #FFFFFF;\n",
              "    }\n",
              "  </style>\n",
              "\n",
              "      <script>\n",
              "        const buttonEl =\n",
              "          document.querySelector('#df-5cfb844c-e424-494e-9730-168092183cec button.colab-df-convert');\n",
              "        buttonEl.style.display =\n",
              "          google.colab.kernel.accessAllowed ? 'block' : 'none';\n",
              "\n",
              "        async function convertToInteractive(key) {\n",
              "          const element = document.querySelector('#df-5cfb844c-e424-494e-9730-168092183cec');\n",
              "          const dataTable =\n",
              "            await google.colab.kernel.invokeFunction('convertToInteractive',\n",
              "                                                     [key], {});\n",
              "          if (!dataTable) return;\n",
              "\n",
              "          const docLinkHtml = 'Like what you see? Visit the ' +\n",
              "            '<a target=\"_blank\" href=https://colab.research.google.com/notebooks/data_table.ipynb>data table notebook</a>'\n",
              "            + ' to learn more about interactive tables.';\n",
              "          element.innerHTML = '';\n",
              "          dataTable['output_type'] = 'display_data';\n",
              "          await google.colab.output.renderOutput(dataTable, element);\n",
              "          const docLink = document.createElement('div');\n",
              "          docLink.innerHTML = docLinkHtml;\n",
              "          element.appendChild(docLink);\n",
              "        }\n",
              "      </script>\n",
              "    </div>\n",
              "  </div>\n",
              "  "
            ]
          },
          "metadata": {},
          "execution_count": 2
        }
      ]
    },
    {
      "cell_type": "markdown",
      "source": [
        "Libraries for plotting:"
      ],
      "metadata": {
        "id": "StoY84URx8hR"
      }
    },
    {
      "cell_type": "code",
      "source": [
        "from ipywidgets import interact, interactive, fixed, interact_manual"
      ],
      "metadata": {
        "id": "_CLMQcNSx72L"
      },
      "execution_count": null,
      "outputs": []
    },
    {
      "cell_type": "markdown",
      "source": [
        "<h2>Functions for Plotting</h2>"
      ],
      "metadata": {
        "id": "OJGEyKfuyDdS"
      }
    },
    {
      "cell_type": "code",
      "source": [
        "def DistributionPlot(RedFunction, BlueFunction, RedName, BlueName, Title):\n",
        "    width = 12\n",
        "    height = 10\n",
        "    plt.figure(figsize=(width, height))\n",
        "\n",
        "    ax1 = sns.distplot(RedFunction, hist=False, color=\"r\", label=RedName)\n",
        "    ax2 = sns.distplot(BlueFunction, hist=False, color=\"b\", label=BlueName, ax=ax1)\n",
        "\n",
        "    plt.title(Title)\n",
        "    plt.xlabel('Price (in dollars)')\n",
        "    plt.ylabel('Proportion of Cars')\n",
        "\n",
        "    plt.show()\n",
        "    plt.close()"
      ],
      "metadata": {
        "id": "BvxyZxVdyA-i"
      },
      "execution_count": null,
      "outputs": []
    },
    {
      "cell_type": "code",
      "source": [
        "def PollyPlot(xtrain, xtest, y_train, y_test, lr,poly_transform):\n",
        "    width = 12\n",
        "    height = 10\n",
        "    plt.figure(figsize=(width, height))\n",
        "    \n",
        "    \n",
        "    #training data \n",
        "    #testing data \n",
        "    # lr:  linear regression object \n",
        "    #poly_transform:  polynomial transformation object \n",
        " \n",
        "    xmax=max([xtrain.values.max(), xtest.values.max()])\n",
        "\n",
        "    xmin=min([xtrain.values.min(), xtest.values.min()])\n",
        "\n",
        "    x=np.arange(xmin, xmax, 0.1)\n",
        "\n",
        "\n",
        "    plt.plot(xtrain, y_train, 'ro', label='Training Data')\n",
        "    plt.plot(xtest, y_test, 'go', label='Test Data')\n",
        "    plt.plot(x, lr.predict(poly_transform.fit_transform(x.reshape(-1, 1))), label='Predicted Function')\n",
        "    plt.ylim([-10000, 60000])\n",
        "    plt.ylabel('Price')\n",
        "    plt.legend()"
      ],
      "metadata": {
        "id": "xa8LXdx8yGAa"
      },
      "execution_count": null,
      "outputs": []
    },
    {
      "cell_type": "markdown",
      "source": [
        "<h2 id=\"ref1\">Part 1: Training and Testing</h2>\n",
        "\n",
        "<p>An important step in testing your model is to split your data into training and testing data. We will place the target data <b>price</b> in a separate dataframe <b>y_data</b>:</p>"
      ],
      "metadata": {
        "id": "lMustpDTyl5S"
      }
    },
    {
      "cell_type": "code",
      "source": [
        "y_data = df['price']"
      ],
      "metadata": {
        "id": "M4z9lvX7yH5_"
      },
      "execution_count": null,
      "outputs": []
    },
    {
      "cell_type": "markdown",
      "source": [
        "Drop price data in dataframe **x_data**:"
      ],
      "metadata": {
        "id": "o6lGvmhJyor0"
      }
    },
    {
      "cell_type": "code",
      "source": [
        "x_data=df.drop('price',axis=1)"
      ],
      "metadata": {
        "id": "B7tcUE0zyn_a"
      },
      "execution_count": null,
      "outputs": []
    },
    {
      "cell_type": "markdown",
      "source": [
        "Now, we randomly split our data into training and testing data using the function <b>train_test_split</b>."
      ],
      "metadata": {
        "id": "XO4y6ndlystl"
      }
    },
    {
      "cell_type": "code",
      "source": [
        "from sklearn.model_selection import train_test_split\n",
        "\n",
        "\n",
        "x_train, x_test, y_train, y_test = train_test_split(x_data, y_data, test_size=0.10, random_state=1)\n",
        "\n",
        "\n",
        "print(\"number of test samples :\", x_test.shape[0])\n",
        "print(\"number of training samples:\",x_train.shape[0])\n"
      ],
      "metadata": {
        "colab": {
          "base_uri": "https://localhost:8080/"
        },
        "id": "UcBA-XLoysLS",
        "outputId": "8addb106-fd3e-47a8-e9fd-55f244dbd9af"
      },
      "execution_count": null,
      "outputs": [
        {
          "output_type": "stream",
          "name": "stdout",
          "text": [
            "number of test samples : 21\n",
            "number of training samples: 180\n"
          ]
        }
      ]
    },
    {
      "cell_type": "markdown",
      "source": [
        "The <b>test_size</b> parameter sets the proportion of data that is split into the testing set. In the above, the testing set is 10% of the total dataset.\n"
      ],
      "metadata": {
        "id": "fASH51LUyx9z"
      }
    },
    {
      "cell_type": "markdown",
      "source": [
        "<b>Use the function \"train_test_split\" to split up the dataset such that 40% of the data samples will be utilized for testing. Set the parameter \"random_state\" equal to zero. The output of the function should be the following:  \"x_train1\" , \"x_test1\", \"y_train1\" and  \"y_test1\".</b>\n"
      ],
      "metadata": {
        "id": "vNYaLfg9y2zm"
      }
    },
    {
      "cell_type": "code",
      "source": [
        "x_train1, x_test1, y_train1, y_test1 = train_test_split(x_data, y_data, test_size=0.4, random_state=0) \n",
        "print(\"number of test samples :\", x_test1.shape[0])\n",
        "print(\"number of training samples:\",x_train1.shape[0])"
      ],
      "metadata": {
        "colab": {
          "base_uri": "https://localhost:8080/"
        },
        "id": "QUlqsyEQyxWf",
        "outputId": "9171e9d8-836f-4ee4-ec7f-1e066987fc27"
      },
      "execution_count": null,
      "outputs": [
        {
          "output_type": "stream",
          "name": "stdout",
          "text": [
            "number of test samples : 81\n",
            "number of training samples: 120\n"
          ]
        }
      ]
    },
    {
      "cell_type": "markdown",
      "source": [
        "Let's import <b>LinearRegression</b> from the module <b>linear_model</b>."
      ],
      "metadata": {
        "id": "o2CBxnXsy_SC"
      }
    },
    {
      "cell_type": "code",
      "source": [
        "from sklearn.linear_model import LinearRegression"
      ],
      "metadata": {
        "id": "x5S-Ftjey802"
      },
      "execution_count": null,
      "outputs": []
    },
    {
      "cell_type": "markdown",
      "source": [
        "We create a Linear Regression object:"
      ],
      "metadata": {
        "id": "yAavEpMmzBs6"
      }
    },
    {
      "cell_type": "code",
      "source": [
        "lre=LinearRegression()"
      ],
      "metadata": {
        "id": "aud0MlnlzBOK"
      },
      "execution_count": null,
      "outputs": []
    },
    {
      "cell_type": "markdown",
      "source": [
        "We fit the model using the feature \"horsepower\":"
      ],
      "metadata": {
        "id": "Lcz34WtQzHv2"
      }
    },
    {
      "cell_type": "code",
      "source": [
        "lre.fit(x_train[['horsepower']], y_train)"
      ],
      "metadata": {
        "colab": {
          "base_uri": "https://localhost:8080/",
          "height": 74
        },
        "id": "nCo135JmzGPq",
        "outputId": "cf4dcf90-903c-47b4-8466-f2ccf1d8e4bb"
      },
      "execution_count": null,
      "outputs": [
        {
          "output_type": "execute_result",
          "data": {
            "text/plain": [
              "LinearRegression()"
            ],
            "text/html": [
              "<style>#sk-container-id-1 {color: black;background-color: white;}#sk-container-id-1 pre{padding: 0;}#sk-container-id-1 div.sk-toggleable {background-color: white;}#sk-container-id-1 label.sk-toggleable__label {cursor: pointer;display: block;width: 100%;margin-bottom: 0;padding: 0.3em;box-sizing: border-box;text-align: center;}#sk-container-id-1 label.sk-toggleable__label-arrow:before {content: \"▸\";float: left;margin-right: 0.25em;color: #696969;}#sk-container-id-1 label.sk-toggleable__label-arrow:hover:before {color: black;}#sk-container-id-1 div.sk-estimator:hover label.sk-toggleable__label-arrow:before {color: black;}#sk-container-id-1 div.sk-toggleable__content {max-height: 0;max-width: 0;overflow: hidden;text-align: left;background-color: #f0f8ff;}#sk-container-id-1 div.sk-toggleable__content pre {margin: 0.2em;color: black;border-radius: 0.25em;background-color: #f0f8ff;}#sk-container-id-1 input.sk-toggleable__control:checked~div.sk-toggleable__content {max-height: 200px;max-width: 100%;overflow: auto;}#sk-container-id-1 input.sk-toggleable__control:checked~label.sk-toggleable__label-arrow:before {content: \"▾\";}#sk-container-id-1 div.sk-estimator input.sk-toggleable__control:checked~label.sk-toggleable__label {background-color: #d4ebff;}#sk-container-id-1 div.sk-label input.sk-toggleable__control:checked~label.sk-toggleable__label {background-color: #d4ebff;}#sk-container-id-1 input.sk-hidden--visually {border: 0;clip: rect(1px 1px 1px 1px);clip: rect(1px, 1px, 1px, 1px);height: 1px;margin: -1px;overflow: hidden;padding: 0;position: absolute;width: 1px;}#sk-container-id-1 div.sk-estimator {font-family: monospace;background-color: #f0f8ff;border: 1px dotted black;border-radius: 0.25em;box-sizing: border-box;margin-bottom: 0.5em;}#sk-container-id-1 div.sk-estimator:hover {background-color: #d4ebff;}#sk-container-id-1 div.sk-parallel-item::after {content: \"\";width: 100%;border-bottom: 1px solid gray;flex-grow: 1;}#sk-container-id-1 div.sk-label:hover label.sk-toggleable__label {background-color: #d4ebff;}#sk-container-id-1 div.sk-serial::before {content: \"\";position: absolute;border-left: 1px solid gray;box-sizing: border-box;top: 0;bottom: 0;left: 50%;z-index: 0;}#sk-container-id-1 div.sk-serial {display: flex;flex-direction: column;align-items: center;background-color: white;padding-right: 0.2em;padding-left: 0.2em;position: relative;}#sk-container-id-1 div.sk-item {position: relative;z-index: 1;}#sk-container-id-1 div.sk-parallel {display: flex;align-items: stretch;justify-content: center;background-color: white;position: relative;}#sk-container-id-1 div.sk-item::before, #sk-container-id-1 div.sk-parallel-item::before {content: \"\";position: absolute;border-left: 1px solid gray;box-sizing: border-box;top: 0;bottom: 0;left: 50%;z-index: -1;}#sk-container-id-1 div.sk-parallel-item {display: flex;flex-direction: column;z-index: 1;position: relative;background-color: white;}#sk-container-id-1 div.sk-parallel-item:first-child::after {align-self: flex-end;width: 50%;}#sk-container-id-1 div.sk-parallel-item:last-child::after {align-self: flex-start;width: 50%;}#sk-container-id-1 div.sk-parallel-item:only-child::after {width: 0;}#sk-container-id-1 div.sk-dashed-wrapped {border: 1px dashed gray;margin: 0 0.4em 0.5em 0.4em;box-sizing: border-box;padding-bottom: 0.4em;background-color: white;}#sk-container-id-1 div.sk-label label {font-family: monospace;font-weight: bold;display: inline-block;line-height: 1.2em;}#sk-container-id-1 div.sk-label-container {text-align: center;}#sk-container-id-1 div.sk-container {/* jupyter's `normalize.less` sets `[hidden] { display: none; }` but bootstrap.min.css set `[hidden] { display: none !important; }` so we also need the `!important` here to be able to override the default hidden behavior on the sphinx rendered scikit-learn.org. See: https://github.com/scikit-learn/scikit-learn/issues/21755 */display: inline-block !important;position: relative;}#sk-container-id-1 div.sk-text-repr-fallback {display: none;}</style><div id=\"sk-container-id-1\" class=\"sk-top-container\"><div class=\"sk-text-repr-fallback\"><pre>LinearRegression()</pre><b>In a Jupyter environment, please rerun this cell to show the HTML representation or trust the notebook. <br />On GitHub, the HTML representation is unable to render, please try loading this page with nbviewer.org.</b></div><div class=\"sk-container\" hidden><div class=\"sk-item\"><div class=\"sk-estimator sk-toggleable\"><input class=\"sk-toggleable__control sk-hidden--visually\" id=\"sk-estimator-id-1\" type=\"checkbox\" checked><label for=\"sk-estimator-id-1\" class=\"sk-toggleable__label sk-toggleable__label-arrow\">LinearRegression</label><div class=\"sk-toggleable__content\"><pre>LinearRegression()</pre></div></div></div></div></div>"
            ]
          },
          "metadata": {},
          "execution_count": 12
        }
      ]
    },
    {
      "cell_type": "markdown",
      "source": [
        "Let's calculate the R^2 on the test data:"
      ],
      "metadata": {
        "id": "RY1TQqpDzKqQ"
      }
    },
    {
      "cell_type": "code",
      "source": [
        "lre.score(x_test[['horsepower']], y_test)"
      ],
      "metadata": {
        "colab": {
          "base_uri": "https://localhost:8080/"
        },
        "id": "N5pzfL3EzKDi",
        "outputId": "05b93345-e68f-4e67-beff-15383ed6e52e"
      },
      "execution_count": null,
      "outputs": [
        {
          "output_type": "execute_result",
          "data": {
            "text/plain": [
              "0.36358755750788263"
            ]
          },
          "metadata": {},
          "execution_count": 13
        }
      ]
    },
    {
      "cell_type": "markdown",
      "source": [
        "We can see the R^2 is much smaller using the test data compared to the training data."
      ],
      "metadata": {
        "id": "9BNHuvIjzcHu"
      }
    },
    {
      "cell_type": "code",
      "source": [
        "lre.score(x_train[['horsepower']], y_train)"
      ],
      "metadata": {
        "colab": {
          "base_uri": "https://localhost:8080/"
        },
        "id": "kAl2RD6Lzbk_",
        "outputId": "6dad8f26-315d-4dcd-aaff-b15cd1311d52"
      },
      "execution_count": null,
      "outputs": [
        {
          "output_type": "execute_result",
          "data": {
            "text/plain": [
              "0.6619724197515104"
            ]
          },
          "metadata": {},
          "execution_count": 14
        }
      ]
    },
    {
      "cell_type": "markdown",
      "source": [
        "Question #2): \n",
        "Find the R^2 on the test data using 40% of the dataset for testing."
      ],
      "metadata": {
        "id": "ww8hsp3dzfvW"
      }
    },
    {
      "cell_type": "code",
      "source": [
        "x_train1, x_test1, y_train1, y_test1 = train_test_split(x_data, y_data, test_size=0.4, random_state=0)\n",
        "lre.fit(x_train1[['horsepower']],y_train1)\n",
        "lre.score(x_test1[['horsepower']],y_test1)"
      ],
      "metadata": {
        "colab": {
          "base_uri": "https://localhost:8080/"
        },
        "id": "nyX1hWoRzfMX",
        "outputId": "78065a1d-a57d-43bb-c610-beb5ac7e8d9c"
      },
      "execution_count": null,
      "outputs": [
        {
          "output_type": "execute_result",
          "data": {
            "text/plain": [
              "0.7139364665406973"
            ]
          },
          "metadata": {},
          "execution_count": 16
        }
      ]
    },
    {
      "cell_type": "markdown",
      "source": [
        "Sometimes you do not have sufficient testing data; as a result, you may want to perform cross-validation. Let's go over several methods that you can use for cross-validation."
      ],
      "metadata": {
        "id": "Fhqi9mJ6znaU"
      }
    },
    {
      "cell_type": "markdown",
      "source": [
        "<h2>Cross-Validation Score</h2>\n",
        "\n",
        "Let's import <b>model_selection</b> from the module <b>cross_val_score</b>."
      ],
      "metadata": {
        "id": "w9QAEvcLzqLU"
      }
    },
    {
      "cell_type": "code",
      "source": [
        "from sklearn.model_selection import cross_val_score"
      ],
      "metadata": {
        "id": "xf_DUQMCzixI"
      },
      "execution_count": null,
      "outputs": []
    },
    {
      "cell_type": "markdown",
      "source": [
        "We input the object, the feature (\"horsepower\"), and the target data (y_data). The parameter 'cv' determines the number of folds. In this case, it is 4."
      ],
      "metadata": {
        "id": "sqxtqtqfzwwm"
      }
    },
    {
      "cell_type": "code",
      "source": [
        "Rcross = cross_val_score(lre, x_data[['horsepower']], y_data, cv=4)"
      ],
      "metadata": {
        "id": "1_G2eaHmzuVS"
      },
      "execution_count": null,
      "outputs": []
    },
    {
      "cell_type": "markdown",
      "source": [
        "The default scoring is R^2. Each element in the array has the average R^2 value for the fold:"
      ],
      "metadata": {
        "id": "aIY1_Musz4fp"
      }
    },
    {
      "cell_type": "code",
      "source": [
        "Rcross"
      ],
      "metadata": {
        "colab": {
          "base_uri": "https://localhost:8080/"
        },
        "id": "cc4fg0T4z35a",
        "outputId": "25b7d467-93ed-47b5-e945-aaebb85db062"
      },
      "execution_count": null,
      "outputs": [
        {
          "output_type": "execute_result",
          "data": {
            "text/plain": [
              "array([0.7746232 , 0.51716687, 0.74785353, 0.04839605])"
            ]
          },
          "metadata": {},
          "execution_count": 19
        }
      ]
    },
    {
      "cell_type": "markdown",
      "source": [
        "We can calculate the average and standard deviation of our estimate:"
      ],
      "metadata": {
        "id": "SIo9DoNyz8zc"
      }
    },
    {
      "cell_type": "code",
      "source": [
        "print(\"The mean of the folds are\", Rcross.mean(), \"and the standard deviation is\" , Rcross.std())"
      ],
      "metadata": {
        "colab": {
          "base_uri": "https://localhost:8080/"
        },
        "id": "4FYQRjmkz8Hm",
        "outputId": "b29e6b4e-fdc3-4aa1-92d0-989b48ce1a61"
      },
      "execution_count": null,
      "outputs": [
        {
          "output_type": "stream",
          "name": "stdout",
          "text": [
            "The mean of the folds are 0.522009915042119 and the standard deviation is 0.291183944475603\n"
          ]
        }
      ]
    },
    {
      "cell_type": "markdown",
      "source": [
        "We can use negative squared error as a score by setting the parameter 'scoring' metric to 'neg_mean_squared_error'."
      ],
      "metadata": {
        "id": "vjr_d8Y60B2g"
      }
    },
    {
      "cell_type": "code",
      "source": [
        "-1 * cross_val_score(lre,x_data[['horsepower']], y_data,cv=4,scoring='neg_mean_squared_error')"
      ],
      "metadata": {
        "colab": {
          "base_uri": "https://localhost:8080/"
        },
        "id": "ECJjffVLz_ym",
        "outputId": "72dd9040-73b4-4d10-c973-51367bb7bbd5"
      },
      "execution_count": null,
      "outputs": [
        {
          "output_type": "execute_result",
          "data": {
            "text/plain": [
              "array([20254142.84026702, 43745493.2650517 , 12539630.34014931,\n",
              "       17561927.72247591])"
            ]
          },
          "metadata": {},
          "execution_count": 21
        }
      ]
    },
    {
      "cell_type": "markdown",
      "source": [
        "Calculate the average R^2 using two folds, then find the average R^2 for the second fold utilizing the \"horsepower\" feature:"
      ],
      "metadata": {
        "id": "owHI6_pH0G5U"
      }
    },
    {
      "cell_type": "code",
      "source": [
        "Rc=cross_val_score(lre,x_data[['horsepower']], y_data,cv=2)\n",
        "Rc.mean()"
      ],
      "metadata": {
        "colab": {
          "base_uri": "https://localhost:8080/"
        },
        "id": "_vMf4hGt0GJK",
        "outputId": "95a8c84a-987e-481a-f16b-ad60e589b5fa"
      },
      "execution_count": null,
      "outputs": [
        {
          "output_type": "execute_result",
          "data": {
            "text/plain": [
              "0.5166761697127429"
            ]
          },
          "metadata": {},
          "execution_count": 22
        }
      ]
    },
    {
      "cell_type": "markdown",
      "source": [
        "You can also use the function 'cross_val_predict' to predict the output. The function splits up the data into the specified number of folds, with one fold for testing and the other folds are used for training. First, import the function:"
      ],
      "metadata": {
        "id": "9lH-J7Q00OeS"
      }
    },
    {
      "cell_type": "code",
      "source": [
        "from sklearn.model_selection import cross_val_predict"
      ],
      "metadata": {
        "id": "IMdAtIcg0Kei"
      },
      "execution_count": null,
      "outputs": []
    },
    {
      "cell_type": "markdown",
      "source": [
        "We input the object, the feature \"horsepower\", and the target data y_data. The parameter 'cv' determines the number of folds. In this case, it is 4. We can produce an output:"
      ],
      "metadata": {
        "id": "1YWRjNie0SYC"
      }
    },
    {
      "cell_type": "code",
      "source": [
        "yhat = cross_val_predict(lre,x_data[['horsepower']], y_data,cv=4)\n",
        "yhat[0:5]"
      ],
      "metadata": {
        "colab": {
          "base_uri": "https://localhost:8080/"
        },
        "id": "edA3ry2h0QJa",
        "outputId": "7d6f8deb-1056-4586-b312-abc2d5a5d3f7"
      },
      "execution_count": null,
      "outputs": [
        {
          "output_type": "execute_result",
          "data": {
            "text/plain": [
              "array([14141.63807508, 14141.63807508, 20814.29423473, 12745.03562306,\n",
              "       14762.35027598])"
            ]
          },
          "metadata": {},
          "execution_count": 24
        }
      ]
    },
    {
      "cell_type": "markdown",
      "source": [
        "<h2 id=\"ref2\">Part 2: Overfitting, Underfitting and Model Selection</h2>\n",
        "\n",
        "<p>It turns out that the test data, sometimes referred to as the \"out of sample data\", is a much better measure of how well your model performs in the real world.  One reason for this is overfitting.\n",
        "\n",
        "Let's go over some examples. It turns out these differences are more apparent in Multiple Linear Regression and Polynomial Regression so we will explore overfitting in that context.</p>\n",
        "\n",
        "Let's create Multiple Linear Regression objects and train the model using <b>'horsepower'</b>, <b>'curb-weight'</b>, <b>'engine-size'</b> and <b>'highway-mpg'</b> as features."
      ],
      "metadata": {
        "id": "4mpxXmkE0VMM"
      }
    },
    {
      "cell_type": "code",
      "source": [
        "lr = LinearRegression()\n",
        "lr.fit(x_train[['horsepower', 'curb-weight', 'engine-size', 'highway-mpg']], y_train)"
      ],
      "metadata": {
        "colab": {
          "base_uri": "https://localhost:8080/",
          "height": 74
        },
        "id": "X0z3SC570Ui-",
        "outputId": "17e94462-aec4-443c-f0f5-94225f48e8c3"
      },
      "execution_count": null,
      "outputs": [
        {
          "output_type": "execute_result",
          "data": {
            "text/plain": [
              "LinearRegression()"
            ],
            "text/html": [
              "<style>#sk-container-id-2 {color: black;background-color: white;}#sk-container-id-2 pre{padding: 0;}#sk-container-id-2 div.sk-toggleable {background-color: white;}#sk-container-id-2 label.sk-toggleable__label {cursor: pointer;display: block;width: 100%;margin-bottom: 0;padding: 0.3em;box-sizing: border-box;text-align: center;}#sk-container-id-2 label.sk-toggleable__label-arrow:before {content: \"▸\";float: left;margin-right: 0.25em;color: #696969;}#sk-container-id-2 label.sk-toggleable__label-arrow:hover:before {color: black;}#sk-container-id-2 div.sk-estimator:hover label.sk-toggleable__label-arrow:before {color: black;}#sk-container-id-2 div.sk-toggleable__content {max-height: 0;max-width: 0;overflow: hidden;text-align: left;background-color: #f0f8ff;}#sk-container-id-2 div.sk-toggleable__content pre {margin: 0.2em;color: black;border-radius: 0.25em;background-color: #f0f8ff;}#sk-container-id-2 input.sk-toggleable__control:checked~div.sk-toggleable__content {max-height: 200px;max-width: 100%;overflow: auto;}#sk-container-id-2 input.sk-toggleable__control:checked~label.sk-toggleable__label-arrow:before {content: \"▾\";}#sk-container-id-2 div.sk-estimator input.sk-toggleable__control:checked~label.sk-toggleable__label {background-color: #d4ebff;}#sk-container-id-2 div.sk-label input.sk-toggleable__control:checked~label.sk-toggleable__label {background-color: #d4ebff;}#sk-container-id-2 input.sk-hidden--visually {border: 0;clip: rect(1px 1px 1px 1px);clip: rect(1px, 1px, 1px, 1px);height: 1px;margin: -1px;overflow: hidden;padding: 0;position: absolute;width: 1px;}#sk-container-id-2 div.sk-estimator {font-family: monospace;background-color: #f0f8ff;border: 1px dotted black;border-radius: 0.25em;box-sizing: border-box;margin-bottom: 0.5em;}#sk-container-id-2 div.sk-estimator:hover {background-color: #d4ebff;}#sk-container-id-2 div.sk-parallel-item::after {content: \"\";width: 100%;border-bottom: 1px solid gray;flex-grow: 1;}#sk-container-id-2 div.sk-label:hover label.sk-toggleable__label {background-color: #d4ebff;}#sk-container-id-2 div.sk-serial::before {content: \"\";position: absolute;border-left: 1px solid gray;box-sizing: border-box;top: 0;bottom: 0;left: 50%;z-index: 0;}#sk-container-id-2 div.sk-serial {display: flex;flex-direction: column;align-items: center;background-color: white;padding-right: 0.2em;padding-left: 0.2em;position: relative;}#sk-container-id-2 div.sk-item {position: relative;z-index: 1;}#sk-container-id-2 div.sk-parallel {display: flex;align-items: stretch;justify-content: center;background-color: white;position: relative;}#sk-container-id-2 div.sk-item::before, #sk-container-id-2 div.sk-parallel-item::before {content: \"\";position: absolute;border-left: 1px solid gray;box-sizing: border-box;top: 0;bottom: 0;left: 50%;z-index: -1;}#sk-container-id-2 div.sk-parallel-item {display: flex;flex-direction: column;z-index: 1;position: relative;background-color: white;}#sk-container-id-2 div.sk-parallel-item:first-child::after {align-self: flex-end;width: 50%;}#sk-container-id-2 div.sk-parallel-item:last-child::after {align-self: flex-start;width: 50%;}#sk-container-id-2 div.sk-parallel-item:only-child::after {width: 0;}#sk-container-id-2 div.sk-dashed-wrapped {border: 1px dashed gray;margin: 0 0.4em 0.5em 0.4em;box-sizing: border-box;padding-bottom: 0.4em;background-color: white;}#sk-container-id-2 div.sk-label label {font-family: monospace;font-weight: bold;display: inline-block;line-height: 1.2em;}#sk-container-id-2 div.sk-label-container {text-align: center;}#sk-container-id-2 div.sk-container {/* jupyter's `normalize.less` sets `[hidden] { display: none; }` but bootstrap.min.css set `[hidden] { display: none !important; }` so we also need the `!important` here to be able to override the default hidden behavior on the sphinx rendered scikit-learn.org. See: https://github.com/scikit-learn/scikit-learn/issues/21755 */display: inline-block !important;position: relative;}#sk-container-id-2 div.sk-text-repr-fallback {display: none;}</style><div id=\"sk-container-id-2\" class=\"sk-top-container\"><div class=\"sk-text-repr-fallback\"><pre>LinearRegression()</pre><b>In a Jupyter environment, please rerun this cell to show the HTML representation or trust the notebook. <br />On GitHub, the HTML representation is unable to render, please try loading this page with nbviewer.org.</b></div><div class=\"sk-container\" hidden><div class=\"sk-item\"><div class=\"sk-estimator sk-toggleable\"><input class=\"sk-toggleable__control sk-hidden--visually\" id=\"sk-estimator-id-2\" type=\"checkbox\" checked><label for=\"sk-estimator-id-2\" class=\"sk-toggleable__label sk-toggleable__label-arrow\">LinearRegression</label><div class=\"sk-toggleable__content\"><pre>LinearRegression()</pre></div></div></div></div></div>"
            ]
          },
          "metadata": {},
          "execution_count": 25
        }
      ]
    },
    {
      "cell_type": "markdown",
      "source": [
        "Prediction using training data:\n"
      ],
      "metadata": {
        "id": "9_bXsCV60gtM"
      }
    },
    {
      "cell_type": "code",
      "source": [
        "yhat_train = lr.predict(x_train[['horsepower', 'curb-weight', 'engine-size', 'highway-mpg']])\n",
        "yhat_train[0:5]"
      ],
      "metadata": {
        "colab": {
          "base_uri": "https://localhost:8080/"
        },
        "id": "ojRcqY7I0dqS",
        "outputId": "2fcb6f5c-5510-4e9a-97b1-cac39f2e69b5"
      },
      "execution_count": null,
      "outputs": [
        {
          "output_type": "execute_result",
          "data": {
            "text/plain": [
              "array([ 7426.6731551 , 28323.75090803, 14213.38819709,  4052.34146983,\n",
              "       34500.19124244])"
            ]
          },
          "metadata": {},
          "execution_count": 26
        }
      ]
    },
    {
      "cell_type": "markdown",
      "source": [
        "Prediction using test data:"
      ],
      "metadata": {
        "id": "iTkZmxXb0ni1"
      }
    },
    {
      "cell_type": "code",
      "source": [
        "yhat_test = lr.predict(x_test[['horsepower', 'curb-weight', 'engine-size', 'highway-mpg']])\n",
        "yhat_test[0:5]"
      ],
      "metadata": {
        "colab": {
          "base_uri": "https://localhost:8080/"
        },
        "id": "WZOrIh2h0jyH",
        "outputId": "1d587381-568d-441b-ac83-9c311efb8adf"
      },
      "execution_count": null,
      "outputs": [
        {
          "output_type": "execute_result",
          "data": {
            "text/plain": [
              "array([11349.35089149,  5884.11059106, 11208.6928275 ,  6641.07786278,\n",
              "       15565.79920282])"
            ]
          },
          "metadata": {},
          "execution_count": 27
        }
      ]
    },
    {
      "cell_type": "markdown",
      "source": [
        "Let's perform some model evaluation using our training and testing data separately. First, we import the seaborn and matplotlib library for plotting."
      ],
      "metadata": {
        "id": "XCNo0d4X0rfN"
      }
    },
    {
      "cell_type": "code",
      "source": [
        "import matplotlib.pyplot as plt\n",
        "%matplotlib inline\n",
        "import seaborn as sns"
      ],
      "metadata": {
        "id": "lBzHOZoM0q4E"
      },
      "execution_count": null,
      "outputs": []
    },
    {
      "cell_type": "markdown",
      "source": [
        "Let's examine the distribution of the predicted values of the training data."
      ],
      "metadata": {
        "id": "KGyjzja10vc3"
      }
    },
    {
      "cell_type": "code",
      "source": [
        "Title = 'Distribution  Plot of  Predicted Value Using Training Data vs Training Data Distribution'\n",
        "DistributionPlot(y_train, yhat_train, \"Actual Values (Train)\", \"Predicted Values (Train)\", Title)"
      ],
      "metadata": {
        "colab": {
          "base_uri": "https://localhost:8080/",
          "height": 1000
        },
        "id": "WnJYspUL0uxe",
        "outputId": "1c2b991a-e80d-42ea-c6e8-523ef870c651"
      },
      "execution_count": null,
      "outputs": [
        {
          "output_type": "stream",
          "name": "stderr",
          "text": [
            "<ipython-input-4-122ce36d6117>:6: UserWarning: \n",
            "\n",
            "`distplot` is a deprecated function and will be removed in seaborn v0.14.0.\n",
            "\n",
            "Please adapt your code to use either `displot` (a figure-level function with\n",
            "similar flexibility) or `kdeplot` (an axes-level function for kernel density plots).\n",
            "\n",
            "For a guide to updating your code to use the new functions, please see\n",
            "https://gist.github.com/mwaskom/de44147ed2974457ad6372750bbe5751\n",
            "\n",
            "  ax1 = sns.distplot(RedFunction, hist=False, color=\"r\", label=RedName)\n",
            "<ipython-input-4-122ce36d6117>:7: UserWarning: \n",
            "\n",
            "`distplot` is a deprecated function and will be removed in seaborn v0.14.0.\n",
            "\n",
            "Please adapt your code to use either `displot` (a figure-level function with\n",
            "similar flexibility) or `kdeplot` (an axes-level function for kernel density plots).\n",
            "\n",
            "For a guide to updating your code to use the new functions, please see\n",
            "https://gist.github.com/mwaskom/de44147ed2974457ad6372750bbe5751\n",
            "\n",
            "  ax2 = sns.distplot(BlueFunction, hist=False, color=\"b\", label=BlueName, ax=ax1)\n"
          ]
        },
        {
          "output_type": "display_data",
          "data": {
            "text/plain": [
              "<Figure size 864x720 with 1 Axes>"
            ],
            "image/png": "[encoded data removed]"
          },
          "metadata": {
            "needs_background": "light"
          }
        }
      ]
    },
    {
      "cell_type": "markdown",
      "source": [
        "Figure 1: Plot of predicted values using the training data compared to the actual values of the training data.\n",
        "\n",
        "So far, the model seems to be doing well in learning from the training dataset. But what happens when the model encounters new data from the testing dataset? When the model generates new values from the test data, we see the distribution of the predicted values is much different from the actual target values.\n"
      ],
      "metadata": {
        "id": "DkSIkaYL09HQ"
      }
    },
    {
      "cell_type": "code",
      "source": [
        "Title='Distribution  Plot of  Predicted Value Using Test Data vs Data Distribution of Test Data'\n",
        "DistributionPlot(y_test,yhat_test,\"Actual Values (Test)\",\"Predicted Values (Test)\",Title)"
      ],
      "metadata": {
        "colab": {
          "base_uri": "https://localhost:8080/",
          "height": 1000
        },
        "id": "qQN63W6J0zEm",
        "outputId": "583f0996-8226-4fe9-acc0-2d37e3c4072a"
      },
      "execution_count": null,
      "outputs": [
        {
          "output_type": "stream",
          "name": "stderr",
          "text": [
            "<ipython-input-4-122ce36d6117>:6: UserWarning: \n",
            "\n",
            "`distplot` is a deprecated function and will be removed in seaborn v0.14.0.\n",
            "\n",
            "Please adapt your code to use either `displot` (a figure-level function with\n",
            "similar flexibility) or `kdeplot` (an axes-level function for kernel density plots).\n",
            "\n",
            "For a guide to updating your code to use the new functions, please see\n",
            "https://gist.github.com/mwaskom/de44147ed2974457ad6372750bbe5751\n",
            "\n",
            "  ax1 = sns.distplot(RedFunction, hist=False, color=\"r\", label=RedName)\n",
            "<ipython-input-4-122ce36d6117>:7: UserWarning: \n",
            "\n",
            "`distplot` is a deprecated function and will be removed in seaborn v0.14.0.\n",
            "\n",
            "Please adapt your code to use either `displot` (a figure-level function with\n",
            "similar flexibility) or `kdeplot` (an axes-level function for kernel density plots).\n",
            "\n",
            "For a guide to updating your code to use the new functions, please see\n",
            "https://gist.github.com/mwaskom/de44147ed2974457ad6372750bbe5751\n",
            "\n",
            "  ax2 = sns.distplot(BlueFunction, hist=False, color=\"b\", label=BlueName, ax=ax1)\n"
          ]
        },
        {
          "output_type": "display_data",
          "data": {
            "text/plain": [
              "<Figure size 864x720 with 1 Axes>"
            ],
            "image/png": "[encoded data removed]"
          },
          "metadata": {
            "needs_background": "light"
          }
        }
      ]
    },
    {
      "cell_type": "markdown",
      "source": [
        "Figure 2: Plot of predicted value using the test data compared to the actual values of the test data.\n",
        "\n",
        "\n",
        "<p>Comparing Figure 1 and Figure 2, it is evident that the distribution of the test data in Figure 1 is much better at fitting the data. This difference in Figure 2 is apparent in the range of 5000 to 15,000. This is where the shape of the distribution is extremely different. Let's see if polynomial regression also exhibits a drop in the prediction accuracy when analysing the test dataset.</p>"
      ],
      "metadata": {
        "id": "KfB1cS6k1BYK"
      }
    },
    {
      "cell_type": "code",
      "source": [
        "from sklearn.preprocessing import PolynomialFeatures"
      ],
      "metadata": {
        "id": "buuutV_O1Amu"
      },
      "execution_count": null,
      "outputs": []
    },
    {
      "cell_type": "markdown",
      "source": [
        "<h4>Overfitting</h4>\n",
        "<p>Overfitting occurs when the model fits the noise, but not the underlying process. Therefore, when testing your model using the test set, your model does not perform as well since it is modelling noise, not the underlying process that generated the relationship. Let's create a degree 5 polynomial model.</p>\n",
        "\n",
        "Let's use 55 percent of the data for training and the rest for testing:"
      ],
      "metadata": {
        "id": "9QItp8101H1k"
      }
    },
    {
      "cell_type": "code",
      "source": [
        "x_train, x_test, y_train, y_test = train_test_split(x_data, y_data, test_size=0.45, random_state=0)"
      ],
      "metadata": {
        "id": "dmzFVwfq1HT6"
      },
      "execution_count": null,
      "outputs": []
    },
    {
      "cell_type": "markdown",
      "source": [
        "We will perform a degree 5 polynomial transformation on the feature <b>'horsepower'</b>."
      ],
      "metadata": {
        "id": "GowaZ7BZ1Occ"
      }
    },
    {
      "cell_type": "code",
      "source": [
        "pr = PolynomialFeatures(degree=5)\n",
        "x_train_pr = pr.fit_transform(x_train[['horsepower']])\n",
        "x_test_pr = pr.fit_transform(x_test[['horsepower']])\n",
        "pr"
      ],
      "metadata": {
        "colab": {
          "base_uri": "https://localhost:8080/",
          "height": 74
        },
        "id": "a2ZAr5q-1MPe",
        "outputId": "2fbcf7a8-0f27-4f87-f629-b50f230dc616"
      },
      "execution_count": null,
      "outputs": [
        {
          "output_type": "execute_result",
          "data": {
            "text/plain": [
              "PolynomialFeatures(degree=5)"
            ],
            "text/html": [
              "<style>#sk-container-id-3 {color: black;background-color: white;}#sk-container-id-3 pre{padding: 0;}#sk-container-id-3 div.sk-toggleable {background-color: white;}#sk-container-id-3 label.sk-toggleable__label {cursor: pointer;display: block;width: 100%;margin-bottom: 0;padding: 0.3em;box-sizing: border-box;text-align: center;}#sk-container-id-3 label.sk-toggleable__label-arrow:before {content: \"▸\";float: left;margin-right: 0.25em;color: #696969;}#sk-container-id-3 label.sk-toggleable__label-arrow:hover:before {color: black;}#sk-container-id-3 div.sk-estimator:hover label.sk-toggleable__label-arrow:before {color: black;}#sk-container-id-3 div.sk-toggleable__content {max-height: 0;max-width: 0;overflow: hidden;text-align: left;background-color: #f0f8ff;}#sk-container-id-3 div.sk-toggleable__content pre {margin: 0.2em;color: black;border-radius: 0.25em;background-color: #f0f8ff;}#sk-container-id-3 input.sk-toggleable__control:checked~div.sk-toggleable__content {max-height: 200px;max-width: 100%;overflow: auto;}#sk-container-id-3 input.sk-toggleable__control:checked~label.sk-toggleable__label-arrow:before {content: \"▾\";}#sk-container-id-3 div.sk-estimator input.sk-toggleable__control:checked~label.sk-toggleable__label {background-color: #d4ebff;}#sk-container-id-3 div.sk-label input.sk-toggleable__control:checked~label.sk-toggleable__label {background-color: #d4ebff;}#sk-container-id-3 input.sk-hidden--visually {border: 0;clip: rect(1px 1px 1px 1px);clip: rect(1px, 1px, 1px, 1px);height: 1px;margin: -1px;overflow: hidden;padding: 0;position: absolute;width: 1px;}#sk-container-id-3 div.sk-estimator {font-family: monospace;background-color: #f0f8ff;border: 1px dotted black;border-radius: 0.25em;box-sizing: border-box;margin-bottom: 0.5em;}#sk-container-id-3 div.sk-estimator:hover {background-color: #d4ebff;}#sk-container-id-3 div.sk-parallel-item::after {content: \"\";width: 100%;border-bottom: 1px solid gray;flex-grow: 1;}#sk-container-id-3 div.sk-label:hover label.sk-toggleable__label {background-color: #d4ebff;}#sk-container-id-3 div.sk-serial::before {content: \"\";position: absolute;border-left: 1px solid gray;box-sizing: border-box;top: 0;bottom: 0;left: 50%;z-index: 0;}#sk-container-id-3 div.sk-serial {display: flex;flex-direction: column;align-items: center;background-color: white;padding-right: 0.2em;padding-left: 0.2em;position: relative;}#sk-container-id-3 div.sk-item {position: relative;z-index: 1;}#sk-container-id-3 div.sk-parallel {display: flex;align-items: stretch;justify-content: center;background-color: white;position: relative;}#sk-container-id-3 div.sk-item::before, #sk-container-id-3 div.sk-parallel-item::before {content: \"\";position: absolute;border-left: 1px solid gray;box-sizing: border-box;top: 0;bottom: 0;left: 50%;z-index: -1;}#sk-container-id-3 div.sk-parallel-item {display: flex;flex-direction: column;z-index: 1;position: relative;background-color: white;}#sk-container-id-3 div.sk-parallel-item:first-child::after {align-self: flex-end;width: 50%;}#sk-container-id-3 div.sk-parallel-item:last-child::after {align-self: flex-start;width: 50%;}#sk-container-id-3 div.sk-parallel-item:only-child::after {width: 0;}#sk-container-id-3 div.sk-dashed-wrapped {border: 1px dashed gray;margin: 0 0.4em 0.5em 0.4em;box-sizing: border-box;padding-bottom: 0.4em;background-color: white;}#sk-container-id-3 div.sk-label label {font-family: monospace;font-weight: bold;display: inline-block;line-height: 1.2em;}#sk-container-id-3 div.sk-label-container {text-align: center;}#sk-container-id-3 div.sk-container {/* jupyter's `normalize.less` sets `[hidden] { display: none; }` but bootstrap.min.css set `[hidden] { display: none !important; }` so we also need the `!important` here to be able to override the default hidden behavior on the sphinx rendered scikit-learn.org. See: https://github.com/scikit-learn/scikit-learn/issues/21755 */display: inline-block !important;position: relative;}#sk-container-id-3 div.sk-text-repr-fallback {display: none;}</style><div id=\"sk-container-id-3\" class=\"sk-top-container\"><div class=\"sk-text-repr-fallback\"><pre>PolynomialFeatures(degree=5)</pre><b>In a Jupyter environment, please rerun this cell to show the HTML representation or trust the notebook. <br />On GitHub, the HTML representation is unable to render, please try loading this page with nbviewer.org.</b></div><div class=\"sk-container\" hidden><div class=\"sk-item\"><div class=\"sk-estimator sk-toggleable\"><input class=\"sk-toggleable__control sk-hidden--visually\" id=\"sk-estimator-id-3\" type=\"checkbox\" checked><label for=\"sk-estimator-id-3\" class=\"sk-toggleable__label sk-toggleable__label-arrow\">PolynomialFeatures</label><div class=\"sk-toggleable__content\"><pre>PolynomialFeatures(degree=5)</pre></div></div></div></div></div>"
            ]
          },
          "metadata": {},
          "execution_count": 33
        }
      ]
    },
    {
      "cell_type": "markdown",
      "source": [
        "Now, let's create a Linear Regression model \"poly\" and train it."
      ],
      "metadata": {
        "id": "tvdOb4sk1tBT"
      }
    },
    {
      "cell_type": "code",
      "source": [
        "poly = LinearRegression()\n",
        "poly.fit(x_train_pr, y_train)"
      ],
      "metadata": {
        "colab": {
          "base_uri": "https://localhost:8080/",
          "height": 74
        },
        "id": "RdQSqNqU1SR6",
        "outputId": "8186947a-c939-4b67-d94c-98d8ea7d59aa"
      },
      "execution_count": null,
      "outputs": [
        {
          "output_type": "execute_result",
          "data": {
            "text/plain": [
              "LinearRegression()"
            ],
            "text/html": [
              "<style>#sk-container-id-4 {color: black;background-color: white;}#sk-container-id-4 pre{padding: 0;}#sk-container-id-4 div.sk-toggleable {background-color: white;}#sk-container-id-4 label.sk-toggleable__label {cursor: pointer;display: block;width: 100%;margin-bottom: 0;padding: 0.3em;box-sizing: border-box;text-align: center;}#sk-container-id-4 label.sk-toggleable__label-arrow:before {content: \"▸\";float: left;margin-right: 0.25em;color: #696969;}#sk-container-id-4 label.sk-toggleable__label-arrow:hover:before {color: black;}#sk-container-id-4 div.sk-estimator:hover label.sk-toggleable__label-arrow:before {color: black;}#sk-container-id-4 div.sk-toggleable__content {max-height: 0;max-width: 0;overflow: hidden;text-align: left;background-color: #f0f8ff;}#sk-container-id-4 div.sk-toggleable__content pre {margin: 0.2em;color: black;border-radius: 0.25em;background-color: #f0f8ff;}#sk-container-id-4 input.sk-toggleable__control:checked~div.sk-toggleable__content {max-height: 200px;max-width: 100%;overflow: auto;}#sk-container-id-4 input.sk-toggleable__control:checked~label.sk-toggleable__label-arrow:before {content: \"▾\";}#sk-container-id-4 div.sk-estimator input.sk-toggleable__control:checked~label.sk-toggleable__label {background-color: #d4ebff;}#sk-container-id-4 div.sk-label input.sk-toggleable__control:checked~label.sk-toggleable__label {background-color: #d4ebff;}#sk-container-id-4 input.sk-hidden--visually {border: 0;clip: rect(1px 1px 1px 1px);clip: rect(1px, 1px, 1px, 1px);height: 1px;margin: -1px;overflow: hidden;padding: 0;position: absolute;width: 1px;}#sk-container-id-4 div.sk-estimator {font-family: monospace;background-color: #f0f8ff;border: 1px dotted black;border-radius: 0.25em;box-sizing: border-box;margin-bottom: 0.5em;}#sk-container-id-4 div.sk-estimator:hover {background-color: #d4ebff;}#sk-container-id-4 div.sk-parallel-item::after {content: \"\";width: 100%;border-bottom: 1px solid gray;flex-grow: 1;}#sk-container-id-4 div.sk-label:hover label.sk-toggleable__label {background-color: #d4ebff;}#sk-container-id-4 div.sk-serial::before {content: \"\";position: absolute;border-left: 1px solid gray;box-sizing: border-box;top: 0;bottom: 0;left: 50%;z-index: 0;}#sk-container-id-4 div.sk-serial {display: flex;flex-direction: column;align-items: center;background-color: white;padding-right: 0.2em;padding-left: 0.2em;position: relative;}#sk-container-id-4 div.sk-item {position: relative;z-index: 1;}#sk-container-id-4 div.sk-parallel {display: flex;align-items: stretch;justify-content: center;background-color: white;position: relative;}#sk-container-id-4 div.sk-item::before, #sk-container-id-4 div.sk-parallel-item::before {content: \"\";position: absolute;border-left: 1px solid gray;box-sizing: border-box;top: 0;bottom: 0;left: 50%;z-index: -1;}#sk-container-id-4 div.sk-parallel-item {display: flex;flex-direction: column;z-index: 1;position: relative;background-color: white;}#sk-container-id-4 div.sk-parallel-item:first-child::after {align-self: flex-end;width: 50%;}#sk-container-id-4 div.sk-parallel-item:last-child::after {align-self: flex-start;width: 50%;}#sk-container-id-4 div.sk-parallel-item:only-child::after {width: 0;}#sk-container-id-4 div.sk-dashed-wrapped {border: 1px dashed gray;margin: 0 0.4em 0.5em 0.4em;box-sizing: border-box;padding-bottom: 0.4em;background-color: white;}#sk-container-id-4 div.sk-label label {font-family: monospace;font-weight: bold;display: inline-block;line-height: 1.2em;}#sk-container-id-4 div.sk-label-container {text-align: center;}#sk-container-id-4 div.sk-container {/* jupyter's `normalize.less` sets `[hidden] { display: none; }` but bootstrap.min.css set `[hidden] { display: none !important; }` so we also need the `!important` here to be able to override the default hidden behavior on the sphinx rendered scikit-learn.org. See: https://github.com/scikit-learn/scikit-learn/issues/21755 */display: inline-block !important;position: relative;}#sk-container-id-4 div.sk-text-repr-fallback {display: none;}</style><div id=\"sk-container-id-4\" class=\"sk-top-container\"><div class=\"sk-text-repr-fallback\"><pre>LinearRegression()</pre><b>In a Jupyter environment, please rerun this cell to show the HTML representation or trust the notebook. <br />On GitHub, the HTML representation is unable to render, please try loading this page with nbviewer.org.</b></div><div class=\"sk-container\" hidden><div class=\"sk-item\"><div class=\"sk-estimator sk-toggleable\"><input class=\"sk-toggleable__control sk-hidden--visually\" id=\"sk-estimator-id-4\" type=\"checkbox\" checked><label for=\"sk-estimator-id-4\" class=\"sk-toggleable__label sk-toggleable__label-arrow\">LinearRegression</label><div class=\"sk-toggleable__content\"><pre>LinearRegression()</pre></div></div></div></div></div>"
            ]
          },
          "metadata": {},
          "execution_count": 34
        }
      ]
    },
    {
      "cell_type": "markdown",
      "source": [
        "We can see the output of our model using the method \"predict.\" We assign the values to \"yhat\"."
      ],
      "metadata": {
        "id": "49645Gg51v9Y"
      }
    },
    {
      "cell_type": "code",
      "source": [
        "yhat = poly.predict(x_test_pr)\n",
        "yhat[0:5]"
      ],
      "metadata": {
        "colab": {
          "base_uri": "https://localhost:8080/"
        },
        "id": "hvHJms2q1vFu",
        "outputId": "227ad150-392f-41d7-9c2f-5038c9052789"
      },
      "execution_count": null,
      "outputs": [
        {
          "output_type": "execute_result",
          "data": {
            "text/plain": [
              "array([ 6728.65561887,  7307.98782321, 12213.78770965, 18893.24804015,\n",
              "       19995.95195136])"
            ]
          },
          "metadata": {},
          "execution_count": 35
        }
      ]
    },
    {
      "cell_type": "markdown",
      "source": [
        "Let's take the first five predicted values and compare it to the actual targets."
      ],
      "metadata": {
        "id": "HopN39LX10dy"
      }
    },
    {
      "cell_type": "code",
      "source": [
        "print(\"Predicted values:\", yhat[0:4])\n",
        "print(\"True values:\", y_test[0:4].values)"
      ],
      "metadata": {
        "colab": {
          "base_uri": "https://localhost:8080/"
        },
        "id": "ugjIq_UF1ys2",
        "outputId": "f56e091b-de29-4d45-8878-0f5e78ee7fab"
      },
      "execution_count": null,
      "outputs": [
        {
          "output_type": "stream",
          "name": "stdout",
          "text": [
            "Predicted values: [ 6728.65561887  7307.98782321 12213.78770965 18893.24804015]\n",
            "True values: [ 6295. 10698. 13860. 13499.]\n"
          ]
        }
      ]
    },
    {
      "cell_type": "markdown",
      "source": [
        "We will use the function \"PollyPlot\" that we defined at the beginning of the lab to display the training data, testing data, and the predicted function."
      ],
      "metadata": {
        "id": "R0zSPWPs13ik"
      }
    },
    {
      "cell_type": "code",
      "source": [
        "PollyPlot(x_train[['horsepower']], x_test[['horsepower']], y_train, y_test, poly,pr)"
      ],
      "metadata": {
        "colab": {
          "base_uri": "https://localhost:8080/",
          "height": 595
        },
        "id": "xwtQEsTt117K",
        "outputId": "ee573bbe-f806-41db-e0bd-bcdd2af9dda6"
      },
      "execution_count": null,
      "outputs": [
        {
          "output_type": "display_data",
          "data": {
            "text/plain": [
              "<Figure size 864x720 with 1 Axes>"
            ],
            "image/png": "[encoded data removed]"
          },
          "metadata": {
            "needs_background": "light"
          }
        }
      ]
    },
    {
      "cell_type": "markdown",
      "source": [
        "Figure 3: A polynomial regression model where red dots represent training data, green dots represent test data, and the blue line represents the model prediction.\n",
        "\n",
        "\n",
        "We see that the estimated function appears to track the data but around 200 horsepower, the function begins to diverge from the data points.\n",
        "\n",
        "\n",
        "R^2 of the training data:"
      ],
      "metadata": {
        "id": "jI8c_LKG1_A4"
      }
    },
    {
      "cell_type": "code",
      "source": [
        "poly.score(x_train_pr, y_train)"
      ],
      "metadata": {
        "colab": {
          "base_uri": "https://localhost:8080/"
        },
        "id": "ecYhjmsS18LX",
        "outputId": "f89e419e-90b1-4bbe-8faf-d3f18d24837e"
      },
      "execution_count": null,
      "outputs": [
        {
          "output_type": "execute_result",
          "data": {
            "text/plain": [
              "0.5567716902120254"
            ]
          },
          "metadata": {},
          "execution_count": 38
        }
      ]
    },
    {
      "cell_type": "markdown",
      "source": [
        "R^2 of the test data:"
      ],
      "metadata": {
        "id": "eXSr5ZT32Ewd"
      }
    },
    {
      "cell_type": "code",
      "source": [
        "poly.score(x_test_pr, y_test)"
      ],
      "metadata": {
        "colab": {
          "base_uri": "https://localhost:8080/"
        },
        "id": "uRLMP1dS2DOq",
        "outputId": "4e7c9cb9-c1df-40fb-9154-18540d7e14c1"
      },
      "execution_count": null,
      "outputs": [
        {
          "output_type": "execute_result",
          "data": {
            "text/plain": [
              "-29.871340302043684"
            ]
          },
          "metadata": {},
          "execution_count": 39
        }
      ]
    },
    {
      "cell_type": "markdown",
      "source": [
        "We see the R^2 for the training data is 0.5567 while the R^2 on the test data was -29.87. The lower the R^2, the worse the model. A negative R^2 is a sign of overfitting.\n",
        "\n",
        "\n",
        "\n",
        "Let's see how the R^2 changes on the test data for different order polynomials and then plot the results:"
      ],
      "metadata": {
        "id": "oNk12AOd2Iik"
      }
    },
    {
      "cell_type": "code",
      "source": [
        "Rsqu_test = []\n",
        "\n",
        "order = [1, 2, 3, 4]\n",
        "for n in order:\n",
        "    pr = PolynomialFeatures(degree=n)\n",
        "    \n",
        "    x_train_pr = pr.fit_transform(x_train[['horsepower']])\n",
        "    \n",
        "    x_test_pr = pr.fit_transform(x_test[['horsepower']])    \n",
        "    \n",
        "    lr.fit(x_train_pr, y_train)\n",
        "    \n",
        "    Rsqu_test.append(lr.score(x_test_pr, y_test))\n",
        "\n",
        "plt.plot(order, Rsqu_test)\n",
        "plt.xlabel('order')\n",
        "plt.ylabel('R^2')\n",
        "plt.title('R^2 Using Test Data')\n",
        "plt.text(3, 0.75, 'Maximum R^2 ') "
      ],
      "metadata": {
        "colab": {
          "base_uri": "https://localhost:8080/",
          "height": 312
        },
        "id": "ScPh4k9f2G6S",
        "outputId": "58e88a37-52d9-4fdb-e7c4-ebdd3aa99a82"
      },
      "execution_count": null,
      "outputs": [
        {
          "output_type": "execute_result",
          "data": {
            "text/plain": [
              "Text(3, 0.75, 'Maximum R^2 ')"
            ]
          },
          "metadata": {},
          "execution_count": 40
        },
        {
          "output_type": "display_data",
          "data": {
            "text/plain": [
              "<Figure size 432x288 with 1 Axes>"
            ],
            "image/png": "[encoded data removed]"
          },
          "metadata": {
            "needs_background": "light"
          }
        }
      ]
    },
    {
      "cell_type": "markdown",
      "source": [
        "We see the R^2 gradually increases until an order three polynomial is used. Then, the R^2 dramatically decreases at an order four polynomial.\n",
        "\n",
        "\n",
        "\n",
        "\n",
        "\n",
        "\n",
        "\n",
        "The following function will be used in the next section. Please run the cell below."
      ],
      "metadata": {
        "id": "ZuwvGxIv2Mig"
      }
    },
    {
      "cell_type": "code",
      "source": [
        "import numpy as np\n",
        "import matplotlib.pyplot as plt\n",
        "from sklearn.model_selection import train_test_split\n",
        "from sklearn.preprocessing import PolynomialFeatures\n",
        "from sklearn.linear_model import LinearRegression\n",
        "\n",
        "# Generate some sample data\n",
        "x = np.linspace(0, 10, 100)\n",
        "y = np.sin(x) + np.random.normal(0, 0.1, size=len(x))\n",
        "\n",
        "# Split data into training and test sets\n",
        "x_train, x_test, y_train, y_test = train_test_split(x, y, test_size=0.2)\n",
        "\n",
        "# Create polynomial features for training and test sets\n",
        "poly = PolynomialFeatures(degree=2)\n",
        "X_train_poly = poly.fit_transform(x_train.reshape(-1, 1))\n",
        "X_test_poly = poly.transform(x_test.reshape(-1, 1))\n",
        "\n",
        "# Fit linear regression model to training data\n",
        "lin_reg = LinearRegression()\n",
        "lin_reg.fit(X_train_poly, y_train)\n",
        "\n",
        "# Predict on test data and calculate R^2 score\n",
        "y_pred = lin_reg.predict(X_test_poly)\n",
        "r2_score = lin_reg.score(X_test_poly, y_test)\n",
        "\n",
        "# Plot the test data and polynomial fit\n",
        "plt.scatter(x_test, y_test)\n",
        "plt.plot(x_test, y_pred, color='red')\n",
        "plt.title(f\"Polynomial Regression (degree=2)\\nTest R^2 score: {r2_score:.2f}\")\n",
        "plt.show()\n"
      ],
      "metadata": {
        "colab": {
          "base_uri": "https://localhost:8080/",
          "height": 296
        },
        "id": "AUkPoaXT2Lsu",
        "outputId": "9447f55a-0565-4602-b95e-4c3050dfc928"
      },
      "execution_count": null,
      "outputs": [
        {
          "output_type": "display_data",
          "data": {
            "text/plain": [
              "<Figure size 432x288 with 1 Axes>"
            ],
            "image/png": "[encoded data removed]"
          },
          "metadata": {
            "needs_background": "light"
          }
        }
      ]
    },
    {
      "cell_type": "code",
      "source": [
        "import matplotlib.pyplot as plt\n",
        "def f(order, test_data):\n",
        "    x_train, x_test, y_train, y_test = train_test_split(x, y, test_size=0.2)\n",
        "    # Create polynomial features for training and test sets\n",
        "    poly = PolynomialFeatures(degree=2)\n",
        "    X_train_poly = poly.fit_transform(x_train.reshape(-1, 1))\n",
        "    X_test_poly = poly.transform(x_test.reshape(-1, 1))\n",
        "\n",
        "    # Fit linear regression model to training data\n",
        "    lin_reg = LinearRegression()\n",
        "    lin_reg.fit(X_train_poly, y_train)\n",
        "\n",
        "    # Predict on test data and calculate R^2 score\n",
        "    y_pred = lin_reg.predict(X_test_poly)\n",
        "    r2_score = lin_reg.score(X_test_poly, y_test)\n",
        "\n",
        "    # Plot the test data and polynomial fit\n",
        "    plt.scatter(x_test, y_test)\n",
        "    plt.plot(x_test, y_pred, color='red')\n",
        "    plt.title(f\"Polynomial Regression (degree=2)\\nTest R^2 score: {r2_score:.2f}\")\n",
        "    plt.show()"
      ],
      "metadata": {
        "id": "z-Ykysop2R1G"
      },
      "execution_count": null,
      "outputs": []
    },
    {
      "cell_type": "markdown",
      "source": [
        "The following interface allows you to experiment with different polynomial orders and different amounts of data."
      ],
      "metadata": {
        "id": "1pUWwlqY2VIK"
      }
    },
    {
      "cell_type": "code",
      "source": [
        "interact(f, order=(0, 6, 1), test_data=(0.05, 0.95, 0.05))"
      ],
      "metadata": {
        "colab": {
          "base_uri": "https://localhost:8080/",
          "height": 377,
          "referenced_widgets": [
            "7620f8da1c8c47898b8dabc5c0f6658f",
            "3a54bed106b54f11b4f232bb12a74bae",
            "82322b23025c423aae9d601d261671ef",
            "f0842d9dcc954664bf65a003a2251bd4",
            "2377fe5843324c3a8078c985d3a8cc88",
            "3584ea324893474093d961e6bdd58664",
            "2396d9b28bc84e9daab06b33d52253c5",
            "bb4ff9b3a95b41b3899a8c6220f61ca5",
            "ab92d70b3ccb461f9447d4f7373b8ac8",
            "ace6acb2beef4eb2a3c14e62a8851b0a"
          ]
        },
        "id": "rhBoS4Wg2UmK",
        "outputId": "dc13d8e5-29d2-4776-b818-4d36f602300f"
      },
      "execution_count": null,
      "outputs": [
        {
          "output_type": "display_data",
          "data": {
            "text/plain": [
              "interactive(children=(IntSlider(value=3, description='order', max=6), FloatSlider(value=0.45, description='tes…"
            ],
            "application/vnd.jupyter.widget-view+json": {
              "version_major": 2,
              "version_minor": 0,
              "model_id": "7620f8da1c8c47898b8dabc5c0f6658f"
            }
          },
          "metadata": {}
        },
        {
          "output_type": "execute_result",
          "data": {
            "text/plain": [
              "<function __main__.f(order, test_data)>"
            ]
          },
          "metadata": {},
          "execution_count": 44
        }
      ]
    },
    {
      "cell_type": "markdown",
      "source": [
        "We can perform polynomial transformations with more than one feature. Create a \"PolynomialFeatures\" object \"pr1\" of degree two."
      ],
      "metadata": {
        "id": "vZSX5acH2cw3"
      }
    },
    {
      "cell_type": "code",
      "source": [
        "pr1=PolynomialFeatures(degree=2)"
      ],
      "metadata": {
        "id": "vHH7fHu02aKT"
      },
      "execution_count": null,
      "outputs": []
    },
    {
      "cell_type": "markdown",
      "source": [
        "Transform the training and testing samples for the features 'horsepower', 'curb-weight', 'engine-size' and 'highway-mpg'. Hint: use the method \"fit_transform\"."
      ],
      "metadata": {
        "id": "ecQCcnan2ga2"
      }
    },
    {
      "cell_type": "code",
      "source": [
        "x_train, x_test, y_train, y_test = train_test_split(x_data, y_data, test_size=0.2, random_state=0)\n",
        "\n",
        "x_train_pr1=pr1.fit_transform(x_train[['horsepower', 'curb-weight', 'engine-size', 'highway-mpg']])\n",
        "\n",
        "x_test_pr1=pr1.fit_transform(x_test[['horsepower', 'curb-weight', 'engine-size', 'highway-mpg']])"
      ],
      "metadata": {
        "id": "stVYKdLv2fk6"
      },
      "execution_count": null,
      "outputs": []
    },
    {
      "cell_type": "markdown",
      "source": [
        "How many dimensions does the new feature have? Hint: use the attribute \"shape\"."
      ],
      "metadata": {
        "id": "4QP0FwSj2lHS"
      }
    },
    {
      "cell_type": "code",
      "source": [
        "x_train_pr1.shape #there are now 15 features"
      ],
      "metadata": {
        "colab": {
          "base_uri": "https://localhost:8080/"
        },
        "id": "xo55Y9ci2e9q",
        "outputId": "830f1bdd-7296-4bbf-b1ab-4431ca4eb4fb"
      },
      "execution_count": null,
      "outputs": [
        {
          "output_type": "execute_result",
          "data": {
            "text/plain": [
              "(160, 15)"
            ]
          },
          "metadata": {},
          "execution_count": 47
        }
      ]
    },
    {
      "cell_type": "markdown",
      "source": [
        "Create a linear regression model \"poly1\". Train the object using the method \"fit\" using the polynomial features."
      ],
      "metadata": {
        "id": "7T_baG0s2r1K"
      }
    },
    {
      "cell_type": "code",
      "source": [
        "poly1=LinearRegression().fit(x_train_pr1,y_train)"
      ],
      "metadata": {
        "id": "_J2ywzoF2pVv"
      },
      "execution_count": null,
      "outputs": []
    },
    {
      "cell_type": "markdown",
      "source": [
        "Use the method \"predict\" to predict an output on the polynomial features, then use the function \"DistributionPlot\" to display the distribution of the predicted test output vs. the actual test data."
      ],
      "metadata": {
        "id": "3zBw5MJp2wUv"
      }
    },
    {
      "cell_type": "code",
      "source": [
        "yhat_test1=poly1.predict(x_test_pr1)\n",
        "\n",
        "Title='Distribution  Plot of  Predicted Value Using Test Data vs Data Distribution of Test Data'\n",
        "\n",
        "DistributionPlot(y_test, yhat_test1, \"Actual Values (Test)\", \"Predicted Values (Test)\", Title)"
      ],
      "metadata": {
        "colab": {
          "base_uri": "https://localhost:8080/",
          "height": 1000
        },
        "id": "MHhfjxgs2ud6",
        "outputId": "20b4ee50-af27-4e4d-c8f4-090aee8ddbd4"
      },
      "execution_count": null,
      "outputs": [
        {
          "output_type": "stream",
          "name": "stderr",
          "text": [
            "<ipython-input-4-122ce36d6117>:6: UserWarning: \n",
            "\n",
            "`distplot` is a deprecated function and will be removed in seaborn v0.14.0.\n",
            "\n",
            "Please adapt your code to use either `displot` (a figure-level function with\n",
            "similar flexibility) or `kdeplot` (an axes-level function for kernel density plots).\n",
            "\n",
            "For a guide to updating your code to use the new functions, please see\n",
            "https://gist.github.com/mwaskom/de44147ed2974457ad6372750bbe5751\n",
            "\n",
            "  ax1 = sns.distplot(RedFunction, hist=False, color=\"r\", label=RedName)\n",
            "<ipython-input-4-122ce36d6117>:7: UserWarning: \n",
            "\n",
            "`distplot` is a deprecated function and will be removed in seaborn v0.14.0.\n",
            "\n",
            "Please adapt your code to use either `displot` (a figure-level function with\n",
            "similar flexibility) or `kdeplot` (an axes-level function for kernel density plots).\n",
            "\n",
            "For a guide to updating your code to use the new functions, please see\n",
            "https://gist.github.com/mwaskom/de44147ed2974457ad6372750bbe5751\n",
            "\n",
            "  ax2 = sns.distplot(BlueFunction, hist=False, color=\"b\", label=BlueName, ax=ax1)\n"
          ]
        },
        {
          "output_type": "display_data",
          "data": {
            "text/plain": [
              "<Figure size 864x720 with 1 Axes>"
            ],
            "image/png": "[encoded data removed]"
          },
          "metadata": {
            "needs_background": "light"
          }
        }
      ]
    },
    {
      "cell_type": "markdown",
      "source": [
        "Using the distribution plot above, describe (in words) the two regions where the predicted prices are less accurate than the actual prices."
      ],
      "metadata": {
        "id": "FG3JIi2-2zs0"
      }
    },
    {
      "cell_type": "code",
      "source": [
        "print(\"predicted values:\",yhat[0:4])\n",
        "print(\"True values:\",y_test[0:4].values)"
      ],
      "metadata": {
        "colab": {
          "base_uri": "https://localhost:8080/"
        },
        "id": "bHWoEg0T2y0b",
        "outputId": "5d2d8148-baef-44d7-dd5f-cdbb4a816f5c"
      },
      "execution_count": null,
      "outputs": [
        {
          "output_type": "stream",
          "name": "stdout",
          "text": [
            "predicted values: [ 6728.65561887  7307.98782321 12213.78770965 18893.24804015]\n",
            "True values: [ 6295. 10698. 13860. 13499.]\n"
          ]
        }
      ]
    },
    {
      "cell_type": "markdown",
      "source": [
        "<h2 id=\"ref3\">Part 3: Ridge Regression</h2> \n",
        "\n",
        "In this section, we will review Ridge Regression and see how the parameter alpha changes the model. Just a note, here our test data will be used as validation data.\n",
        "\n",
        "\n",
        "\n",
        "\n",
        "\n",
        "\n",
        "\n",
        "Let's perform a degree two polynomial transformation on our data."
      ],
      "metadata": {
        "id": "A8VNUidi25Gy"
      }
    },
    {
      "cell_type": "code",
      "source": [
        "pr=PolynomialFeatures(degree=2)\n",
        "x_train_pr=pr.fit_transform(x_train[['horsepower', 'curb-weight', 'engine-size', 'highway-mpg','normalized-losses','symboling']])\n",
        "x_test_pr=pr.fit_transform(x_test[['horsepower', 'curb-weight', 'engine-size', 'highway-mpg','normalized-losses','symboling']])"
      ],
      "metadata": {
        "id": "jxovIO-F23Gi"
      },
      "execution_count": null,
      "outputs": []
    },
    {
      "cell_type": "markdown",
      "source": [
        "Let's import Ridge from the module linear models."
      ],
      "metadata": {
        "id": "8wVSWJCD2-Vc"
      }
    },
    {
      "cell_type": "code",
      "source": [
        "from sklearn.linear_model import Ridge"
      ],
      "metadata": {
        "id": "6uKrA8VL29nn"
      },
      "execution_count": null,
      "outputs": []
    },
    {
      "cell_type": "markdown",
      "source": [
        "Let's create a Ridge regression object, setting the regularization parameter (alpha) to 0.1"
      ],
      "metadata": {
        "id": "4YY5PVPT3Cm1"
      }
    },
    {
      "cell_type": "code",
      "source": [
        "RigeModel=Ridge(alpha=1)"
      ],
      "metadata": {
        "id": "24Qvycj73Bw3"
      },
      "execution_count": null,
      "outputs": []
    },
    {
      "cell_type": "markdown",
      "source": [
        "Like regular regression, you can fit the model using the method fit."
      ],
      "metadata": {
        "id": "taBWWh4t3G4J"
      }
    },
    {
      "cell_type": "code",
      "source": [
        "RigeModel.fit(x_train_pr, y_train)"
      ],
      "metadata": {
        "colab": {
          "base_uri": "https://localhost:8080/",
          "height": 74
        },
        "id": "SdgBOKuz3GO_",
        "outputId": "7ec6650a-9195-4fcc-b418-a160f491dcff"
      },
      "execution_count": null,
      "outputs": [
        {
          "output_type": "execute_result",
          "data": {
            "text/plain": [
              "Ridge(alpha=1)"
            ],
            "text/html": [
              "<style>#sk-container-id-5 {color: black;background-color: white;}#sk-container-id-5 pre{padding: 0;}#sk-container-id-5 div.sk-toggleable {background-color: white;}#sk-container-id-5 label.sk-toggleable__label {cursor: pointer;display: block;width: 100%;margin-bottom: 0;padding: 0.3em;box-sizing: border-box;text-align: center;}#sk-container-id-5 label.sk-toggleable__label-arrow:before {content: \"▸\";float: left;margin-right: 0.25em;color: #696969;}#sk-container-id-5 label.sk-toggleable__label-arrow:hover:before {color: black;}#sk-container-id-5 div.sk-estimator:hover label.sk-toggleable__label-arrow:before {color: black;}#sk-container-id-5 div.sk-toggleable__content {max-height: 0;max-width: 0;overflow: hidden;text-align: left;background-color: #f0f8ff;}#sk-container-id-5 div.sk-toggleable__content pre {margin: 0.2em;color: black;border-radius: 0.25em;background-color: #f0f8ff;}#sk-container-id-5 input.sk-toggleable__control:checked~div.sk-toggleable__content {max-height: 200px;max-width: 100%;overflow: auto;}#sk-container-id-5 input.sk-toggleable__control:checked~label.sk-toggleable__label-arrow:before {content: \"▾\";}#sk-container-id-5 div.sk-estimator input.sk-toggleable__control:checked~label.sk-toggleable__label {background-color: #d4ebff;}#sk-container-id-5 div.sk-label input.sk-toggleable__control:checked~label.sk-toggleable__label {background-color: #d4ebff;}#sk-container-id-5 input.sk-hidden--visually {border: 0;clip: rect(1px 1px 1px 1px);clip: rect(1px, 1px, 1px, 1px);height: 1px;margin: -1px;overflow: hidden;padding: 0;position: absolute;width: 1px;}#sk-container-id-5 div.sk-estimator {font-family: monospace;background-color: #f0f8ff;border: 1px dotted black;border-radius: 0.25em;box-sizing: border-box;margin-bottom: 0.5em;}#sk-container-id-5 div.sk-estimator:hover {background-color: #d4ebff;}#sk-container-id-5 div.sk-parallel-item::after {content: \"\";width: 100%;border-bottom: 1px solid gray;flex-grow: 1;}#sk-container-id-5 div.sk-label:hover label.sk-toggleable__label {background-color: #d4ebff;}#sk-container-id-5 div.sk-serial::before {content: \"\";position: absolute;border-left: 1px solid gray;box-sizing: border-box;top: 0;bottom: 0;left: 50%;z-index: 0;}#sk-container-id-5 div.sk-serial {display: flex;flex-direction: column;align-items: center;background-color: white;padding-right: 0.2em;padding-left: 0.2em;position: relative;}#sk-container-id-5 div.sk-item {position: relative;z-index: 1;}#sk-container-id-5 div.sk-parallel {display: flex;align-items: stretch;justify-content: center;background-color: white;position: relative;}#sk-container-id-5 div.sk-item::before, #sk-container-id-5 div.sk-parallel-item::before {content: \"\";position: absolute;border-left: 1px solid gray;box-sizing: border-box;top: 0;bottom: 0;left: 50%;z-index: -1;}#sk-container-id-5 div.sk-parallel-item {display: flex;flex-direction: column;z-index: 1;position: relative;background-color: white;}#sk-container-id-5 div.sk-parallel-item:first-child::after {align-self: flex-end;width: 50%;}#sk-container-id-5 div.sk-parallel-item:last-child::after {align-self: flex-start;width: 50%;}#sk-container-id-5 div.sk-parallel-item:only-child::after {width: 0;}#sk-container-id-5 div.sk-dashed-wrapped {border: 1px dashed gray;margin: 0 0.4em 0.5em 0.4em;box-sizing: border-box;padding-bottom: 0.4em;background-color: white;}#sk-container-id-5 div.sk-label label {font-family: monospace;font-weight: bold;display: inline-block;line-height: 1.2em;}#sk-container-id-5 div.sk-label-container {text-align: center;}#sk-container-id-5 div.sk-container {/* jupyter's `normalize.less` sets `[hidden] { display: none; }` but bootstrap.min.css set `[hidden] { display: none !important; }` so we also need the `!important` here to be able to override the default hidden behavior on the sphinx rendered scikit-learn.org. See: https://github.com/scikit-learn/scikit-learn/issues/21755 */display: inline-block !important;position: relative;}#sk-container-id-5 div.sk-text-repr-fallback {display: none;}</style><div id=\"sk-container-id-5\" class=\"sk-top-container\"><div class=\"sk-text-repr-fallback\"><pre>Ridge(alpha=1)</pre><b>In a Jupyter environment, please rerun this cell to show the HTML representation or trust the notebook. <br />On GitHub, the HTML representation is unable to render, please try loading this page with nbviewer.org.</b></div><div class=\"sk-container\" hidden><div class=\"sk-item\"><div class=\"sk-estimator sk-toggleable\"><input class=\"sk-toggleable__control sk-hidden--visually\" id=\"sk-estimator-id-5\" type=\"checkbox\" checked><label for=\"sk-estimator-id-5\" class=\"sk-toggleable__label sk-toggleable__label-arrow\">Ridge</label><div class=\"sk-toggleable__content\"><pre>Ridge(alpha=1)</pre></div></div></div></div></div>"
            ]
          },
          "metadata": {},
          "execution_count": 54
        }
      ]
    },
    {
      "cell_type": "markdown",
      "source": [
        "Similarly, you can obtain a prediction:"
      ],
      "metadata": {
        "id": "SLbn1JvY3LKI"
      }
    },
    {
      "cell_type": "code",
      "source": [
        "yhat = RigeModel.predict(x_test_pr)"
      ],
      "metadata": {
        "id": "tuPP-D_73JkP"
      },
      "execution_count": null,
      "outputs": []
    },
    {
      "cell_type": "markdown",
      "source": [
        "Let's compare the first five predicted samples to our test set:"
      ],
      "metadata": {
        "id": "pLO8R-CG3Odu"
      }
    },
    {
      "cell_type": "code",
      "source": [
        "print('predicted:', yhat[0:4])\n",
        "print('test set :', y_test[0:4].values)"
      ],
      "metadata": {
        "colab": {
          "base_uri": "https://localhost:8080/"
        },
        "id": "X9QvwxmW3MqP",
        "outputId": "ca3c6e1b-3675-41b3-a42c-f0551084dfb4"
      },
      "execution_count": null,
      "outputs": [
        {
          "output_type": "stream",
          "name": "stdout",
          "text": [
            "predicted: [ 6499.8550239   9599.85035384 24165.79256895 21704.538644  ]\n",
            "test set : [ 6295. 10698. 13860. 13499.]\n"
          ]
        }
      ]
    },
    {
      "cell_type": "markdown",
      "source": [
        "We select the value of alpha that minimizes the test error. To do so, we can use a for loop. We have also created a progress bar to see how many iterations we have completed so far."
      ],
      "metadata": {
        "id": "kYPrIxzu3QqO"
      }
    },
    {
      "cell_type": "code",
      "source": [
        "from tqdm import tqdm\n",
        "\n",
        "Rsqu_test = []\n",
        "Rsqu_train = []\n",
        "dummy1 = []\n",
        "Alpha = 10 * np.array(range(0,1000))\n",
        "pbar = tqdm(Alpha)\n",
        "\n",
        "for alpha in pbar:\n",
        "    RigeModel = Ridge(alpha=alpha) \n",
        "    RigeModel.fit(x_train_pr, y_train)\n",
        "    test_score, train_score = RigeModel.score(x_test_pr, y_test), RigeModel.score(x_train_pr, y_train)\n",
        "    \n",
        "    pbar.set_postfix({\"Test Score\": test_score, \"Train Score\": train_score})\n",
        "\n",
        "    Rsqu_test.append(test_score)\n",
        "    Rsqu_train.append(train_score)"
      ],
      "metadata": {
        "colab": {
          "base_uri": "https://localhost:8080/"
        },
        "id": "4LI5DNG93QJ7",
        "outputId": "7034f0c2-2e5a-43b7-b4ce-872a26062f76"
      },
      "execution_count": null,
      "outputs": [
        {
          "output_type": "stream",
          "name": "stderr",
          "text": [
            "100%|██████████| 1000/1000 [00:09<00:00, 107.62it/s, Test Score=0.763, Train Score=0.866]\n"
          ]
        }
      ]
    },
    {
      "cell_type": "markdown",
      "source": [
        "We can plot out the value of R^2 for different alphas:"
      ],
      "metadata": {
        "id": "vcs9kaO_3axo"
      }
    },
    {
      "cell_type": "code",
      "source": [
        "width = 12\n",
        "height = 10\n",
        "plt.figure(figsize=(width, height))\n",
        "\n",
        "plt.plot(Alpha,Rsqu_test, label='validation data  ')\n",
        "plt.plot(Alpha,Rsqu_train, 'r', label='training Data ')\n",
        "plt.xlabel('alpha')\n",
        "plt.ylabel('R^2')\n",
        "plt.legend()"
      ],
      "metadata": {
        "colab": {
          "base_uri": "https://localhost:8080/",
          "height": 623
        },
        "id": "Ex0jdwFf3UN3",
        "outputId": "26ca5901-fe95-49bf-914c-fceebb91acf2"
      },
      "execution_count": null,
      "outputs": [
        {
          "output_type": "execute_result",
          "data": {
            "text/plain": [
              "<matplotlib.legend.Legend at 0x7fd6a8c540d0>"
            ]
          },
          "metadata": {},
          "execution_count": 59
        },
        {
          "output_type": "display_data",
          "data": {
            "text/plain": [
              "<Figure size 864x720 with 1 Axes>"
            ],
            "image/png": "[encoded data removed]"
          },
          "metadata": {
            "needs_background": "light"
          }
        }
      ]
    },
    {
      "cell_type": "markdown",
      "source": [
        "**Figure 4**: The blue line represents the R^2 of the validation data, and the red line represents the R^2 of the training data. The x-axis represents the different values of Alpha.\n",
        "\n",
        "Here the model is built and tested on the same data, so the training and test data are the same.\n",
        "\n",
        "The red line in Figure 4 represents the R^2 of the training data. As alpha increases the R^2 decreases. Therefore, as alpha increases, the model performs worse on the training data\n",
        "\n",
        "The blue line represents the R^2 on the validation data. As the value for alpha increases, the R^2 increases and converges at a point.\n"
      ],
      "metadata": {
        "id": "HaH96_sh3gm6"
      }
    },
    {
      "cell_type": "markdown",
      "source": [
        "Perform Ridge regression. Calculate the R^2 using the polynomial features, use the training data to train the model and use the test data to test the model. The parameter alpha should be set to 10."
      ],
      "metadata": {
        "id": "VBy1XohQ3kX4"
      }
    },
    {
      "cell_type": "code",
      "source": [
        "RigeModel = Ridge(alpha=10) \n",
        "RigeModel.fit(x_train_pr, y_train)\n",
        "RigeModel.score(x_test_pr, y_test)"
      ],
      "metadata": {
        "colab": {
          "base_uri": "https://localhost:8080/"
        },
        "id": "eRNIr-Jl3dsu",
        "outputId": "7ad7a9a8-054d-45f4-b371-9315c3ba051c"
      },
      "execution_count": null,
      "outputs": [
        {
          "output_type": "execute_result",
          "data": {
            "text/plain": [
              "0.7710815635864123"
            ]
          },
          "metadata": {},
          "execution_count": 60
        }
      ]
    },
    {
      "cell_type": "markdown",
      "source": [
        "<h2 id=\"ref4\">Part 4: Grid Search</h2>\n",
        "\n",
        "The term alpha is a hyperparameter. Sklearn has the class <b>GridSearchCV</b> to make the process of finding the best hyperparameter simpler.\n",
        "\n",
        "\n",
        "Let's import <b>GridSearchCV</b> from  the module <b>model_selection</b>."
      ],
      "metadata": {
        "id": "MdZJhuaH3nMK"
      }
    },
    {
      "cell_type": "code",
      "source": [
        "from sklearn.model_selection import GridSearchCV"
      ],
      "metadata": {
        "id": "PpMRHB9X3me_"
      },
      "execution_count": null,
      "outputs": []
    },
    {
      "cell_type": "markdown",
      "source": [
        "We create a dictionary of parameter values:"
      ],
      "metadata": {
        "id": "1ElwrXKf3xtS"
      }
    },
    {
      "cell_type": "code",
      "source": [
        "parameters1= [{'alpha': [0.001,0.1,1, 10, 100, 1000, 10000, 100000, 100000]}]\n",
        "parameters1"
      ],
      "metadata": {
        "colab": {
          "base_uri": "https://localhost:8080/"
        },
        "id": "imbxxE2V3tt-",
        "outputId": "e9d2fe28-6bd1-4a87-a25a-050ce9211068"
      },
      "execution_count": null,
      "outputs": [
        {
          "output_type": "execute_result",
          "data": {
            "text/plain": [
              "[{'alpha': [0.001, 0.1, 1, 10, 100, 1000, 10000, 100000, 100000]}]"
            ]
          },
          "metadata": {},
          "execution_count": 63
        }
      ]
    },
    {
      "cell_type": "markdown",
      "source": [
        "Create a Ridge regression object:"
      ],
      "metadata": {
        "id": "53zzR6MN33Wj"
      }
    },
    {
      "cell_type": "code",
      "source": [
        "RR=Ridge()\n",
        "RR"
      ],
      "metadata": {
        "colab": {
          "base_uri": "https://localhost:8080/",
          "height": 74
        },
        "id": "lhC1hdeG3vWH",
        "outputId": "891c824f-5f6f-4e35-a65a-548284e68396"
      },
      "execution_count": null,
      "outputs": [
        {
          "output_type": "execute_result",
          "data": {
            "text/plain": [
              "Ridge()"
            ],
            "text/html": [
              "<style>#sk-container-id-6 {color: black;background-color: white;}#sk-container-id-6 pre{padding: 0;}#sk-container-id-6 div.sk-toggleable {background-color: white;}#sk-container-id-6 label.sk-toggleable__label {cursor: pointer;display: block;width: 100%;margin-bottom: 0;padding: 0.3em;box-sizing: border-box;text-align: center;}#sk-container-id-6 label.sk-toggleable__label-arrow:before {content: \"▸\";float: left;margin-right: 0.25em;color: #696969;}#sk-container-id-6 label.sk-toggleable__label-arrow:hover:before {color: black;}#sk-container-id-6 div.sk-estimator:hover label.sk-toggleable__label-arrow:before {color: black;}#sk-container-id-6 div.sk-toggleable__content {max-height: 0;max-width: 0;overflow: hidden;text-align: left;background-color: #f0f8ff;}#sk-container-id-6 div.sk-toggleable__content pre {margin: 0.2em;color: black;border-radius: 0.25em;background-color: #f0f8ff;}#sk-container-id-6 input.sk-toggleable__control:checked~div.sk-toggleable__content {max-height: 200px;max-width: 100%;overflow: auto;}#sk-container-id-6 input.sk-toggleable__control:checked~label.sk-toggleable__label-arrow:before {content: \"▾\";}#sk-container-id-6 div.sk-estimator input.sk-toggleable__control:checked~label.sk-toggleable__label {background-color: #d4ebff;}#sk-container-id-6 div.sk-label input.sk-toggleable__control:checked~label.sk-toggleable__label {background-color: #d4ebff;}#sk-container-id-6 input.sk-hidden--visually {border: 0;clip: rect(1px 1px 1px 1px);clip: rect(1px, 1px, 1px, 1px);height: 1px;margin: -1px;overflow: hidden;padding: 0;position: absolute;width: 1px;}#sk-container-id-6 div.sk-estimator {font-family: monospace;background-color: #f0f8ff;border: 1px dotted black;border-radius: 0.25em;box-sizing: border-box;margin-bottom: 0.5em;}#sk-container-id-6 div.sk-estimator:hover {background-color: #d4ebff;}#sk-container-id-6 div.sk-parallel-item::after {content: \"\";width: 100%;border-bottom: 1px solid gray;flex-grow: 1;}#sk-container-id-6 div.sk-label:hover label.sk-toggleable__label {background-color: #d4ebff;}#sk-container-id-6 div.sk-serial::before {content: \"\";position: absolute;border-left: 1px solid gray;box-sizing: border-box;top: 0;bottom: 0;left: 50%;z-index: 0;}#sk-container-id-6 div.sk-serial {display: flex;flex-direction: column;align-items: center;background-color: white;padding-right: 0.2em;padding-left: 0.2em;position: relative;}#sk-container-id-6 div.sk-item {position: relative;z-index: 1;}#sk-container-id-6 div.sk-parallel {display: flex;align-items: stretch;justify-content: center;background-color: white;position: relative;}#sk-container-id-6 div.sk-item::before, #sk-container-id-6 div.sk-parallel-item::before {content: \"\";position: absolute;border-left: 1px solid gray;box-sizing: border-box;top: 0;bottom: 0;left: 50%;z-index: -1;}#sk-container-id-6 div.sk-parallel-item {display: flex;flex-direction: column;z-index: 1;position: relative;background-color: white;}#sk-container-id-6 div.sk-parallel-item:first-child::after {align-self: flex-end;width: 50%;}#sk-container-id-6 div.sk-parallel-item:last-child::after {align-self: flex-start;width: 50%;}#sk-container-id-6 div.sk-parallel-item:only-child::after {width: 0;}#sk-container-id-6 div.sk-dashed-wrapped {border: 1px dashed gray;margin: 0 0.4em 0.5em 0.4em;box-sizing: border-box;padding-bottom: 0.4em;background-color: white;}#sk-container-id-6 div.sk-label label {font-family: monospace;font-weight: bold;display: inline-block;line-height: 1.2em;}#sk-container-id-6 div.sk-label-container {text-align: center;}#sk-container-id-6 div.sk-container {/* jupyter's `normalize.less` sets `[hidden] { display: none; }` but bootstrap.min.css set `[hidden] { display: none !important; }` so we also need the `!important` here to be able to override the default hidden behavior on the sphinx rendered scikit-learn.org. See: https://github.com/scikit-learn/scikit-learn/issues/21755 */display: inline-block !important;position: relative;}#sk-container-id-6 div.sk-text-repr-fallback {display: none;}</style><div id=\"sk-container-id-6\" class=\"sk-top-container\"><div class=\"sk-text-repr-fallback\"><pre>Ridge()</pre><b>In a Jupyter environment, please rerun this cell to show the HTML representation or trust the notebook. <br />On GitHub, the HTML representation is unable to render, please try loading this page with nbviewer.org.</b></div><div class=\"sk-container\" hidden><div class=\"sk-item\"><div class=\"sk-estimator sk-toggleable\"><input class=\"sk-toggleable__control sk-hidden--visually\" id=\"sk-estimator-id-6\" type=\"checkbox\" checked><label for=\"sk-estimator-id-6\" class=\"sk-toggleable__label sk-toggleable__label-arrow\">Ridge</label><div class=\"sk-toggleable__content\"><pre>Ridge()</pre></div></div></div></div></div>"
            ]
          },
          "metadata": {},
          "execution_count": 64
        }
      ]
    },
    {
      "cell_type": "markdown",
      "source": [
        "Create a ridge grid search object:"
      ],
      "metadata": {
        "id": "4Ot47FAK36A8"
      }
    },
    {
      "cell_type": "code",
      "source": [
        "Grid1 = GridSearchCV(RR, parameters1,cv=4)"
      ],
      "metadata": {
        "id": "yf1vyHfH35f6"
      },
      "execution_count": null,
      "outputs": []
    },
    {
      "cell_type": "markdown",
      "source": [
        "Fit the model:"
      ],
      "metadata": {
        "id": "st286nVQ3962"
      }
    },
    {
      "cell_type": "code",
      "source": [
        "Grid1.fit(x_data[['horsepower', 'curb-weight', 'engine-size', 'highway-mpg']], y_data)"
      ],
      "metadata": {
        "colab": {
          "base_uri": "https://localhost:8080/",
          "height": 117
        },
        "id": "4Duw27ec39Xn",
        "outputId": "997eac77-55b7-4f9b-d4c6-ab83baca8609"
      },
      "execution_count": null,
      "outputs": [
        {
          "output_type": "execute_result",
          "data": {
            "text/plain": [
              "GridSearchCV(cv=4, estimator=Ridge(),\n",
              "             param_grid=[{'alpha': [0.001, 0.1, 1, 10, 100, 1000, 10000, 100000,\n",
              "                                    100000]}])"
            ],
            "text/html": [
              "<style>#sk-container-id-7 {color: black;background-color: white;}#sk-container-id-7 pre{padding: 0;}#sk-container-id-7 div.sk-toggleable {background-color: white;}#sk-container-id-7 label.sk-toggleable__label {cursor: pointer;display: block;width: 100%;margin-bottom: 0;padding: 0.3em;box-sizing: border-box;text-align: center;}#sk-container-id-7 label.sk-toggleable__label-arrow:before {content: \"▸\";float: left;margin-right: 0.25em;color: #696969;}#sk-container-id-7 label.sk-toggleable__label-arrow:hover:before {color: black;}#sk-container-id-7 div.sk-estimator:hover label.sk-toggleable__label-arrow:before {color: black;}#sk-container-id-7 div.sk-toggleable__content {max-height: 0;max-width: 0;overflow: hidden;text-align: left;background-color: #f0f8ff;}#sk-container-id-7 div.sk-toggleable__content pre {margin: 0.2em;color: black;border-radius: 0.25em;background-color: #f0f8ff;}#sk-container-id-7 input.sk-toggleable__control:checked~div.sk-toggleable__content {max-height: 200px;max-width: 100%;overflow: auto;}#sk-container-id-7 input.sk-toggleable__control:checked~label.sk-toggleable__label-arrow:before {content: \"▾\";}#sk-container-id-7 div.sk-estimator input.sk-toggleable__control:checked~label.sk-toggleable__label {background-color: #d4ebff;}#sk-container-id-7 div.sk-label input.sk-toggleable__control:checked~label.sk-toggleable__label {background-color: #d4ebff;}#sk-container-id-7 input.sk-hidden--visually {border: 0;clip: rect(1px 1px 1px 1px);clip: rect(1px, 1px, 1px, 1px);height: 1px;margin: -1px;overflow: hidden;padding: 0;position: absolute;width: 1px;}#sk-container-id-7 div.sk-estimator {font-family: monospace;background-color: #f0f8ff;border: 1px dotted black;border-radius: 0.25em;box-sizing: border-box;margin-bottom: 0.5em;}#sk-container-id-7 div.sk-estimator:hover {background-color: #d4ebff;}#sk-container-id-7 div.sk-parallel-item::after {content: \"\";width: 100%;border-bottom: 1px solid gray;flex-grow: 1;}#sk-container-id-7 div.sk-label:hover label.sk-toggleable__label {background-color: #d4ebff;}#sk-container-id-7 div.sk-serial::before {content: \"\";position: absolute;border-left: 1px solid gray;box-sizing: border-box;top: 0;bottom: 0;left: 50%;z-index: 0;}#sk-container-id-7 div.sk-serial {display: flex;flex-direction: column;align-items: center;background-color: white;padding-right: 0.2em;padding-left: 0.2em;position: relative;}#sk-container-id-7 div.sk-item {position: relative;z-index: 1;}#sk-container-id-7 div.sk-parallel {display: flex;align-items: stretch;justify-content: center;background-color: white;position: relative;}#sk-container-id-7 div.sk-item::before, #sk-container-id-7 div.sk-parallel-item::before {content: \"\";position: absolute;border-left: 1px solid gray;box-sizing: border-box;top: 0;bottom: 0;left: 50%;z-index: -1;}#sk-container-id-7 div.sk-parallel-item {display: flex;flex-direction: column;z-index: 1;position: relative;background-color: white;}#sk-container-id-7 div.sk-parallel-item:first-child::after {align-self: flex-end;width: 50%;}#sk-container-id-7 div.sk-parallel-item:last-child::after {align-self: flex-start;width: 50%;}#sk-container-id-7 div.sk-parallel-item:only-child::after {width: 0;}#sk-container-id-7 div.sk-dashed-wrapped {border: 1px dashed gray;margin: 0 0.4em 0.5em 0.4em;box-sizing: border-box;padding-bottom: 0.4em;background-color: white;}#sk-container-id-7 div.sk-label label {font-family: monospace;font-weight: bold;display: inline-block;line-height: 1.2em;}#sk-container-id-7 div.sk-label-container {text-align: center;}#sk-container-id-7 div.sk-container {/* jupyter's `normalize.less` sets `[hidden] { display: none; }` but bootstrap.min.css set `[hidden] { display: none !important; }` so we also need the `!important` here to be able to override the default hidden behavior on the sphinx rendered scikit-learn.org. See: https://github.com/scikit-learn/scikit-learn/issues/21755 */display: inline-block !important;position: relative;}#sk-container-id-7 div.sk-text-repr-fallback {display: none;}</style><div id=\"sk-container-id-7\" class=\"sk-top-container\"><div class=\"sk-text-repr-fallback\"><pre>GridSearchCV(cv=4, estimator=Ridge(),\n",
              "             param_grid=[{&#x27;alpha&#x27;: [0.001, 0.1, 1, 10, 100, 1000, 10000, 100000,\n",
              "                                    100000]}])</pre><b>In a Jupyter environment, please rerun this cell to show the HTML representation or trust the notebook. <br />On GitHub, the HTML representation is unable to render, please try loading this page with nbviewer.org.</b></div><div class=\"sk-container\" hidden><div class=\"sk-item sk-dashed-wrapped\"><div class=\"sk-label-container\"><div class=\"sk-label sk-toggleable\"><input class=\"sk-toggleable__control sk-hidden--visually\" id=\"sk-estimator-id-7\" type=\"checkbox\" ><label for=\"sk-estimator-id-7\" class=\"sk-toggleable__label sk-toggleable__label-arrow\">GridSearchCV</label><div class=\"sk-toggleable__content\"><pre>GridSearchCV(cv=4, estimator=Ridge(),\n",
              "             param_grid=[{&#x27;alpha&#x27;: [0.001, 0.1, 1, 10, 100, 1000, 10000, 100000,\n",
              "                                    100000]}])</pre></div></div></div><div class=\"sk-parallel\"><div class=\"sk-parallel-item\"><div class=\"sk-item\"><div class=\"sk-label-container\"><div class=\"sk-label sk-toggleable\"><input class=\"sk-toggleable__control sk-hidden--visually\" id=\"sk-estimator-id-8\" type=\"checkbox\" ><label for=\"sk-estimator-id-8\" class=\"sk-toggleable__label sk-toggleable__label-arrow\">estimator: Ridge</label><div class=\"sk-toggleable__content\"><pre>Ridge()</pre></div></div></div><div class=\"sk-serial\"><div class=\"sk-item\"><div class=\"sk-estimator sk-toggleable\"><input class=\"sk-toggleable__control sk-hidden--visually\" id=\"sk-estimator-id-9\" type=\"checkbox\" ><label for=\"sk-estimator-id-9\" class=\"sk-toggleable__label sk-toggleable__label-arrow\">Ridge</label><div class=\"sk-toggleable__content\"><pre>Ridge()</pre></div></div></div></div></div></div></div></div></div></div>"
            ]
          },
          "metadata": {},
          "execution_count": 66
        }
      ]
    },
    {
      "cell_type": "markdown",
      "source": [
        "The object finds the best parameter values on the validation data. We can obtain the estimator with the best parameters and assign it to the variable BestRR as follows:"
      ],
      "metadata": {
        "id": "s31iNdY34CqG"
      }
    },
    {
      "cell_type": "code",
      "source": [
        "BestRR=Grid1.best_estimator_\n",
        "BestRR"
      ],
      "metadata": {
        "colab": {
          "base_uri": "https://localhost:8080/",
          "height": 74
        },
        "id": "SM580Cdl4AZ6",
        "outputId": "90944c73-dbda-4134-b7f6-66aa19b3de18"
      },
      "execution_count": null,
      "outputs": [
        {
          "output_type": "execute_result",
          "data": {
            "text/plain": [
              "Ridge(alpha=10000)"
            ],
            "text/html": [
              "<style>#sk-container-id-8 {color: black;background-color: white;}#sk-container-id-8 pre{padding: 0;}#sk-container-id-8 div.sk-toggleable {background-color: white;}#sk-container-id-8 label.sk-toggleable__label {cursor: pointer;display: block;width: 100%;margin-bottom: 0;padding: 0.3em;box-sizing: border-box;text-align: center;}#sk-container-id-8 label.sk-toggleable__label-arrow:before {content: \"▸\";float: left;margin-right: 0.25em;color: #696969;}#sk-container-id-8 label.sk-toggleable__label-arrow:hover:before {color: black;}#sk-container-id-8 div.sk-estimator:hover label.sk-toggleable__label-arrow:before {color: black;}#sk-container-id-8 div.sk-toggleable__content {max-height: 0;max-width: 0;overflow: hidden;text-align: left;background-color: #f0f8ff;}#sk-container-id-8 div.sk-toggleable__content pre {margin: 0.2em;color: black;border-radius: 0.25em;background-color: #f0f8ff;}#sk-container-id-8 input.sk-toggleable__control:checked~div.sk-toggleable__content {max-height: 200px;max-width: 100%;overflow: auto;}#sk-container-id-8 input.sk-toggleable__control:checked~label.sk-toggleable__label-arrow:before {content: \"▾\";}#sk-container-id-8 div.sk-estimator input.sk-toggleable__control:checked~label.sk-toggleable__label {background-color: #d4ebff;}#sk-container-id-8 div.sk-label input.sk-toggleable__control:checked~label.sk-toggleable__label {background-color: #d4ebff;}#sk-container-id-8 input.sk-hidden--visually {border: 0;clip: rect(1px 1px 1px 1px);clip: rect(1px, 1px, 1px, 1px);height: 1px;margin: -1px;overflow: hidden;padding: 0;position: absolute;width: 1px;}#sk-container-id-8 div.sk-estimator {font-family: monospace;background-color: #f0f8ff;border: 1px dotted black;border-radius: 0.25em;box-sizing: border-box;margin-bottom: 0.5em;}#sk-container-id-8 div.sk-estimator:hover {background-color: #d4ebff;}#sk-container-id-8 div.sk-parallel-item::after {content: \"\";width: 100%;border-bottom: 1px solid gray;flex-grow: 1;}#sk-container-id-8 div.sk-label:hover label.sk-toggleable__label {background-color: #d4ebff;}#sk-container-id-8 div.sk-serial::before {content: \"\";position: absolute;border-left: 1px solid gray;box-sizing: border-box;top: 0;bottom: 0;left: 50%;z-index: 0;}#sk-container-id-8 div.sk-serial {display: flex;flex-direction: column;align-items: center;background-color: white;padding-right: 0.2em;padding-left: 0.2em;position: relative;}#sk-container-id-8 div.sk-item {position: relative;z-index: 1;}#sk-container-id-8 div.sk-parallel {display: flex;align-items: stretch;justify-content: center;background-color: white;position: relative;}#sk-container-id-8 div.sk-item::before, #sk-container-id-8 div.sk-parallel-item::before {content: \"\";position: absolute;border-left: 1px solid gray;box-sizing: border-box;top: 0;bottom: 0;left: 50%;z-index: -1;}#sk-container-id-8 div.sk-parallel-item {display: flex;flex-direction: column;z-index: 1;position: relative;background-color: white;}#sk-container-id-8 div.sk-parallel-item:first-child::after {align-self: flex-end;width: 50%;}#sk-container-id-8 div.sk-parallel-item:last-child::after {align-self: flex-start;width: 50%;}#sk-container-id-8 div.sk-parallel-item:only-child::after {width: 0;}#sk-container-id-8 div.sk-dashed-wrapped {border: 1px dashed gray;margin: 0 0.4em 0.5em 0.4em;box-sizing: border-box;padding-bottom: 0.4em;background-color: white;}#sk-container-id-8 div.sk-label label {font-family: monospace;font-weight: bold;display: inline-block;line-height: 1.2em;}#sk-container-id-8 div.sk-label-container {text-align: center;}#sk-container-id-8 div.sk-container {/* jupyter's `normalize.less` sets `[hidden] { display: none; }` but bootstrap.min.css set `[hidden] { display: none !important; }` so we also need the `!important` here to be able to override the default hidden behavior on the sphinx rendered scikit-learn.org. See: https://github.com/scikit-learn/scikit-learn/issues/21755 */display: inline-block !important;position: relative;}#sk-container-id-8 div.sk-text-repr-fallback {display: none;}</style><div id=\"sk-container-id-8\" class=\"sk-top-container\"><div class=\"sk-text-repr-fallback\"><pre>Ridge(alpha=10000)</pre><b>In a Jupyter environment, please rerun this cell to show the HTML representation or trust the notebook. <br />On GitHub, the HTML representation is unable to render, please try loading this page with nbviewer.org.</b></div><div class=\"sk-container\" hidden><div class=\"sk-item\"><div class=\"sk-estimator sk-toggleable\"><input class=\"sk-toggleable__control sk-hidden--visually\" id=\"sk-estimator-id-10\" type=\"checkbox\" checked><label for=\"sk-estimator-id-10\" class=\"sk-toggleable__label sk-toggleable__label-arrow\">Ridge</label><div class=\"sk-toggleable__content\"><pre>Ridge(alpha=10000)</pre></div></div></div></div></div>"
            ]
          },
          "metadata": {},
          "execution_count": 67
        }
      ]
    },
    {
      "cell_type": "markdown",
      "source": [
        "We now test our model on the test data:"
      ],
      "metadata": {
        "id": "_yn_U4fJ4GE0"
      }
    },
    {
      "cell_type": "code",
      "source": [
        "BestRR.score(x_test[['horsepower', 'curb-weight', 'engine-size', 'highway-mpg']], y_test)"
      ],
      "metadata": {
        "colab": {
          "base_uri": "https://localhost:8080/"
        },
        "id": "c-Rq6X_34EZf",
        "outputId": "2eed7a2a-c202-416f-baa8-2f34472f2b9f"
      },
      "execution_count": null,
      "outputs": [
        {
          "output_type": "execute_result",
          "data": {
            "text/plain": [
              "0.8167763887065214"
            ]
          },
          "metadata": {},
          "execution_count": 68
        }
      ]
    },
    {
      "cell_type": "code",
      "source": [],
      "metadata": {
        "id": "SQ8-CQE84Hiu"
      },
      "execution_count": null,
      "outputs": []
    }
  ]
}